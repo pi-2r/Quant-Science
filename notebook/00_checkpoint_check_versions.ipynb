{
 "cells": [
  {
   "cell_type": "markdown",
   "id": "9ccee55f-839f-4e39-b306-2291a6cda4a7",
   "metadata": {},
   "source": [
    "### Test everything is working\n",
    "By simply importing the required libraries in our quant stack, we can have confidence they are working. Printing out the versions helps with debugging in the case of issues."
   ]
  },
  {
   "cell_type": "code",
   "execution_count": 1,
   "id": "1b0d0cf1-6c5b-4a76-b24a-f653abf08bf1",
   "metadata": {},
   "outputs": [
    {
     "name": "stdout",
     "output_type": "stream",
     "text": [
      "Extensions to add: alpha_vantage@1.4.0, biztoc@1.4.0, cboe@1.4.0, deribit@1.0.0, ecb@1.4.0, econometrics@1.5.1, finra@1.4.0, finviz@1.3.0, fixedincome@1.4.1, government_us@1.4.0, multpl@1.1.0, nasdaq@1.4.0, openbb_charting@2.3.1, quantitative@1.4.1, seeking_alpha@1.4.0, stockgrid@1.4.0, technical@1.4.1, tmx@1.3.0, tradier@1.3.0, wsj@1.4.0, yfinance@1.4.1\n",
      "Extensions to remove: fixedincome@1.4.0, yfinance@1.4.0\n",
      "\n",
      "Building...\n"
     ]
    }
   ],
   "source": [
    "import pandas as pd\n",
    "import numpy as np\n",
    "import scipy\n",
    "import statsmodels as sm\n",
    "import sklearn\n",
    "import openbb as obb\n",
    "import QuantLib as ql\n",
    "import riskfolio as rf"
   ]
  },
  {
   "cell_type": "code",
   "execution_count": 2,
   "id": "e10fb1d5-9b60-4e23-8172-08580f2ead29",
   "metadata": {},
   "outputs": [
    {
     "name": "stdout",
     "output_type": "stream",
     "text": [
      "Python 3.9.13\n"
     ]
    }
   ],
   "source": [
    "# Test the Python version\n",
    "!python --version"
   ]
  },
  {
   "cell_type": "code",
   "execution_count": 3,
   "id": "fb562c4e-f95a-412a-96a3-c2854e351b6e",
   "metadata": {},
   "outputs": [
    {
     "data": {
      "text/plain": [
       "'2.2.3'"
      ]
     },
     "execution_count": 3,
     "metadata": {},
     "output_type": "execute_result"
    }
   ],
   "source": [
    "# Test the version of pandas\n",
    "pd.__version__"
   ]
  },
  {
   "cell_type": "code",
   "execution_count": 4,
   "id": "4df345b2-7907-44b9-9512-51384d6986bb",
   "metadata": {},
   "outputs": [
    {
     "data": {
      "text/plain": [
       "'1.23.5'"
      ]
     },
     "execution_count": 4,
     "metadata": {},
     "output_type": "execute_result"
    }
   ],
   "source": [
    "# Test the version of NumPy\n",
    "np.__version__"
   ]
  },
  {
   "cell_type": "code",
   "execution_count": 5,
   "id": "de981a39-010e-4e82-a718-fa0c2957a873",
   "metadata": {},
   "outputs": [
    {
     "data": {
      "text/plain": [
       "'1.13.1'"
      ]
     },
     "execution_count": 5,
     "metadata": {},
     "output_type": "execute_result"
    }
   ],
   "source": [
    "# Test the version of SciPy\n",
    "scipy.__version__"
   ]
  },
  {
   "cell_type": "code",
   "execution_count": 6,
   "id": "34548fb1-36f6-41ed-810e-1fd208d3cdae",
   "metadata": {},
   "outputs": [
    {
     "data": {
      "text/plain": [
       "'0.14.4'"
      ]
     },
     "execution_count": 6,
     "metadata": {},
     "output_type": "execute_result"
    }
   ],
   "source": [
    "# Test the version of Statsmodels\n",
    "sm.__version__"
   ]
  },
  {
   "cell_type": "code",
   "execution_count": 7,
   "id": "f61a4ba4-703a-4a4d-accb-7f9dcaf4fd22",
   "metadata": {},
   "outputs": [
    {
     "data": {
      "text/plain": [
       "'1.6.1'"
      ]
     },
     "execution_count": 7,
     "metadata": {},
     "output_type": "execute_result"
    }
   ],
   "source": [
    "# Test the version of scikit-learn\n",
    "sklearn.__version__"
   ]
  },
  {
   "cell_type": "code",
   "execution_count": 8,
   "id": "aafdaf8d-b8ef-4d77-8b74-dd864e6887d4",
   "metadata": {},
   "outputs": [
    {
     "data": {
      "text/plain": [
       "'4.4.0'"
      ]
     },
     "execution_count": 8,
     "metadata": {},
     "output_type": "execute_result"
    }
   ],
   "source": [
    "# Test the version of OpenBB Platform\n",
    "obb.obb.system.version"
   ]
  },
  {
   "cell_type": "code",
   "execution_count": 9,
   "id": "51dad1dd-d19a-4717-bcea-6dbcd5f3bb3c",
   "metadata": {},
   "outputs": [
    {
     "data": {
      "text/plain": [
       "'1.37'"
      ]
     },
     "execution_count": 9,
     "metadata": {},
     "output_type": "execute_result"
    }
   ],
   "source": [
    "# Test the version of QuantLib\n",
    "ql.__version__"
   ]
  },
  {
   "cell_type": "code",
   "execution_count": 10,
   "id": "dcc1a3da-7c08-4a6d-8bc8-3f3c9991c6fe",
   "metadata": {},
   "outputs": [
    {
     "data": {
      "text/plain": [
       "'7.0.0'"
      ]
     },
     "execution_count": 10,
     "metadata": {},
     "output_type": "execute_result"
    }
   ],
   "source": [
    "# Test the version of Riskfolio Lib\n",
    "rf.__version__"
   ]
  },
  {
   "cell_type": "code",
   "execution_count": null,
   "id": "515b9486-b505-4da9-8cbd-fc17014d0328",
   "metadata": {},
   "outputs": [],
   "source": []
  }
 ],
 "metadata": {
  "kernelspec": {
   "display_name": "Python 3 (ipykernel)",
   "language": "python",
   "name": "python3"
  },
  "language_info": {
   "codemirror_mode": {
    "name": "ipython",
    "version": 3
   },
   "file_extension": ".py",
   "mimetype": "text/x-python",
   "name": "python",
   "nbconvert_exporter": "python",
   "pygments_lexer": "ipython3",
   "version": "3.9.13"
  }
 },
 "nbformat": 4,
 "nbformat_minor": 5
}
