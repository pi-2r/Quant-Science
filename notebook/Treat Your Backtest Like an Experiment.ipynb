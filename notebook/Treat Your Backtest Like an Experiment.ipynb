{
 "cells": [
  {
   "cell_type": "code",
   "execution_count": 1,
   "id": "fcc6a9d5-bf4e-4dd0-9fe7-9b6af51867be",
   "metadata": {},
   "outputs": [],
   "source": [
    "import warnings\n",
    "import numpy as np\n",
    "import pandas as pd\n",
    "import scipy.stats as stats\n",
    "import vectorbt as vbt\n",
    "warnings.filterwarnings(\"ignore\")"
   ]
  },
  {
   "cell_type": "code",
   "execution_count": 2,
   "id": "406fc1b4-be04-4676-b517-4a914be8a1a4",
   "metadata": {},
   "outputs": [],
   "source": [
    "start = \"2015\"\n",
    "end = \"now\""
   ]
  },
  {
   "cell_type": "code",
   "execution_count": 3,
   "id": "d979d678-4be2-41d1-addb-9f5905923f8e",
   "metadata": {},
   "outputs": [],
   "source": [
    "prices = vbt.YFData.download (\n",
    "    #[\"META\", \"AAPL\" , \"AMZN\", \"NFLX\", \"GOOG\"], start=start, end=end\n",
    "    \"AAPL\" , start=start, end=end\n",
    ")"
   ]
  },
  {
   "cell_type": "code",
   "execution_count": 4,
   "id": "8b1216a6-ca33-4722-88cd-604e1ff987f8",
   "metadata": {},
   "outputs": [],
   "source": [
    "prices = prices.get(\"Close\")\n",
    "prices.dropna(inplace=True)"
   ]
  },
  {
   "cell_type": "code",
   "execution_count": 5,
   "id": "b8f6deb7-7911-4e35-bd11-08a9f10ec7ec",
   "metadata": {},
   "outputs": [
    {
     "data": {
      "text/plain": [
       "Date\n",
       "2015-01-05 05:00:00+00:00     23.661270\n",
       "2015-01-06 05:00:00+00:00     23.663502\n",
       "2015-01-07 05:00:00+00:00     23.995314\n",
       "2015-01-08 05:00:00+00:00     24.917269\n",
       "2015-01-09 05:00:00+00:00     24.943985\n",
       "                                ...    \n",
       "2024-12-27 05:00:00+00:00    255.589996\n",
       "2024-12-30 05:00:00+00:00    252.199997\n",
       "2024-12-31 05:00:00+00:00    250.419998\n",
       "2025-01-02 05:00:00+00:00    243.850006\n",
       "2025-01-03 05:00:00+00:00    243.360001\n",
       "Name: Close, Length: 2517, dtype: float64"
      ]
     },
     "execution_count": 5,
     "metadata": {},
     "output_type": "execute_result"
    }
   ],
   "source": [
    "prices"
   ]
  },
  {
   "cell_type": "markdown",
   "id": "0d2ed3a6-08fd-4bb5-a283-5d0f4e5dc25f",
   "metadata": {},
   "source": [
    "Caculate 10-day and 30- day moving averages using VectorBT's built-in technical indicators"
   ]
  },
  {
   "cell_type": "code",
   "execution_count": 6,
   "id": "340fd55e-09c3-4657-87d9-7970d2989633",
   "metadata": {},
   "outputs": [],
   "source": [
    "fast_ma = vbt.MA.run(prices, 10, short_name=\"fast\")\n",
    "slow_ma = vbt.MA.run(prices, 30, short_name=\"slow\")"
   ]
  },
  {
   "cell_type": "markdown",
   "id": "d72f2d39-adc3-4cac-a9cb-27688109ddca",
   "metadata": {},
   "source": [
    "Identify entry points where the fast moving average crosses above the slow moving average"
   ]
  },
  {
   "cell_type": "code",
   "execution_count": 7,
   "id": "f050613a-1c5c-4cca-baab-5ee1c441566b",
   "metadata": {},
   "outputs": [
    {
     "data": {
      "text/plain": [
       "Date\n",
       "2015-01-05 05:00:00+00:00    False\n",
       "2015-01-06 05:00:00+00:00    False\n",
       "2015-01-07 05:00:00+00:00    False\n",
       "2015-01-08 05:00:00+00:00    False\n",
       "2015-01-09 05:00:00+00:00    False\n",
       "                             ...  \n",
       "2024-12-27 05:00:00+00:00    False\n",
       "2024-12-30 05:00:00+00:00    False\n",
       "2024-12-31 05:00:00+00:00    False\n",
       "2025-01-02 05:00:00+00:00    False\n",
       "2025-01-03 05:00:00+00:00    False\n",
       "Length: 2517, dtype: bool"
      ]
     },
     "execution_count": 7,
     "metadata": {},
     "output_type": "execute_result"
    }
   ],
   "source": [
    "entries = fast_ma.ma_crossed_above(slow_ma)\n",
    "entries"
   ]
  },
  {
   "cell_type": "code",
   "execution_count": 8,
   "id": "c246bcda-b92c-4041-a067-a663cc973ccd",
   "metadata": {},
   "outputs": [
    {
     "data": {
      "text/plain": [
       "Date\n",
       "2015-01-05 05:00:00+00:00    False\n",
       "2015-01-06 05:00:00+00:00    False\n",
       "2015-01-07 05:00:00+00:00    False\n",
       "2015-01-08 05:00:00+00:00    False\n",
       "2015-01-09 05:00:00+00:00    False\n",
       "                             ...  \n",
       "2024-12-27 05:00:00+00:00    False\n",
       "2024-12-30 05:00:00+00:00    False\n",
       "2024-12-31 05:00:00+00:00    False\n",
       "2025-01-02 05:00:00+00:00    False\n",
       "2025-01-03 05:00:00+00:00    False\n",
       "Length: 2517, dtype: bool"
      ]
     },
     "execution_count": 8,
     "metadata": {},
     "output_type": "execute_result"
    }
   ],
   "source": [
    "exits = fast_ma.ma_crossed_below(slow_ma)\n",
    "exits"
   ]
  },
  {
   "cell_type": "markdown",
   "id": "d86121f9-55b3-4393-a3a2-7ff13287c24c",
   "metadata": {},
   "source": [
    "Run the backtest using the identified entry and exit points and the price data"
   ]
  },
  {
   "cell_type": "code",
   "execution_count": 9,
   "id": "ce5043f5-c83e-4f55-af79-d407bd3bcb52",
   "metadata": {},
   "outputs": [],
   "source": [
    "pf = vbt.Portfolio.from_signals(prices, entries, exits)"
   ]
  },
  {
   "cell_type": "markdown",
   "id": "27b82171-4d50-4898-9c1b-f54f78cf7a99",
   "metadata": {},
   "source": [
    "Display the performance statistics of the backtest"
   ]
  },
  {
   "cell_type": "code",
   "execution_count": 10,
   "id": "8c17024d-25d1-409a-ad52-2167f36a655d",
   "metadata": {},
   "outputs": [
    {
     "data": {
      "text/plain": [
       "Start                         2015-01-05 05:00:00+00:00\n",
       "End                           2025-01-03 05:00:00+00:00\n",
       "Period                                             2517\n",
       "Start Value                                       100.0\n",
       "End Value                                     504.07842\n",
       "Total Return [%]                              404.07842\n",
       "Benchmark Return [%]                         928.516217\n",
       "Max Gross Exposure [%]                            100.0\n",
       "Total Fees Paid                                     0.0\n",
       "Max Drawdown [%]                              30.793083\n",
       "Max Drawdown Duration                             353.0\n",
       "Total Trades                                         44\n",
       "Total Closed Trades                                  43\n",
       "Total Open Trades                                     1\n",
       "Open Trade PnL                                 17.19203\n",
       "Win Rate [%]                                  48.837209\n",
       "Best Trade [%]                                58.402831\n",
       "Worst Trade [%]                              -12.491953\n",
       "Avg Winning Trade [%]                         13.604178\n",
       "Avg Losing Trade [%]                          -4.211924\n",
       "Avg Winning Trade Duration                     55.47619\n",
       "Avg Losing Trade Duration                          16.5\n",
       "Profit Factor                                  2.380184\n",
       "Expectancy                                     8.997358\n",
       "dtype: object"
      ]
     },
     "execution_count": 10,
     "metadata": {},
     "output_type": "execute_result"
    }
   ],
   "source": [
    "pf.stats()"
   ]
  },
  {
   "cell_type": "markdown",
   "id": "9d6885dc-d9b5-4f5b-90e5-6d29a38b0e50",
   "metadata": {},
   "source": [
    "Time to optimize\n",
    "\n",
    "Becuase VectorBT can simulate millions of runs in seconds, it's perfectly suited for walk forward analysis. Walk forward analysis (also called cross-fold validation), is a technique which aimS to avoid over fitting. It splits the data into a series of training and testing splits, optimizes our chosen parameters on the training data, and sees how well the strategy performs on the testing data.\n",
    "\n",
    "\n",
    "Download stock price data for a single ticker for walk-forward analysis"
   ]
  },
  {
   "cell_type": "code",
   "execution_count": 11,
   "id": "163a8f37-7538-47f5-8914-a7c3ba8c7283",
   "metadata": {},
   "outputs": [],
   "source": [
    "start = \"2015\"\n",
    "end = \"now\"\n",
    "prices = vbt.YFData.download(\"AAPL\", start = start, end = end).get(\"Close\")"
   ]
  },
  {
   "cell_type": "markdown",
   "id": "db6c8c83-60a7-4c9e-9c49-ce44432c7081",
   "metadata": {},
   "source": [
    "Define moving average window combinations for testing"
   ]
  },
  {
   "cell_type": "code",
   "execution_count": 12,
   "id": "a335ff42-3e07-4d0a-b550-f3d238e83ca4",
   "metadata": {},
   "outputs": [],
   "source": [
    "windows = np.arange(10,50)"
   ]
  },
  {
   "cell_type": "markdown",
   "id": "d9f29a9e-f6a0-453d-8a06-07c539c4a43e",
   "metadata": {},
   "source": [
    "Perform rolling split to create in-sample and out-of-sample datasets for walk-forward analysis"
   ]
  },
  {
   "cell_type": "code",
   "execution_count": 13,
   "id": "4c67db9f-9705-40da-ae90-85c1ab4c59c8",
   "metadata": {},
   "outputs": [],
   "source": [
    "(in_price, in_indexes), (out_price, out_indexes) = prices.vbt.rolling_split(\n",
    "n=30,\n",
    "window_len=365 * 2, \n",
    "set_lens= (180,), \n",
    "left_to_right=False,\n",
    "trace_names= [\"train\", \"test\"],\n",
    ")"
   ]
  },
  {
   "cell_type": "code",
   "execution_count": 14,
   "id": "24c3e111-1a69-40f3-9be6-603184fa7e6b",
   "metadata": {},
   "outputs": [
    {
     "name": "stdout",
     "output_type": "stream",
     "text": [
      "(550, 30) 30\n",
      "(180, 30) 30\n"
     ]
    }
   ],
   "source": [
    "print (in_price. shape, len (in_indexes)) \n",
    "print (out_price.shape, len(out_indexes))"
   ]
  },
  {
   "cell_type": "markdown",
   "id": "c2d792d8-ca46-469c-b9fa-5e9e7d37f81f",
   "metadata": {},
   "source": [
    "Visualize the rolling split for walk-forward analysis"
   ]
  },
  {
   "cell_type": "code",
   "execution_count": 15,
   "id": "cc904c35-9ef1-4c10-9620-4f119bc2f212",
   "metadata": {},
   "outputs": [
    {
     "data": {
      "application/vnd.jupyter.widget-view+json": {
       "model_id": "0e8498b89ae34bc8a18f45eb643b279b",
       "version_major": 2,
       "version_minor": 0
      },
      "text/plain": [
       "FigureWidget({\n",
       "    'data': [{'colorscale': [[0.0, '#1f77b4'], [1.0, '#1f77b4']],\n",
       "              'hoverongaps': False,\n",
       "              'name': 'train',\n",
       "              'showlegend': True,\n",
       "              'showscale': False,\n",
       "              'type': 'heatmap',\n",
       "              'uid': '1082b472-b65d-4220-ba0a-257127944ffd',\n",
       "              'x': array([datetime.datetime(2015, 1, 5, 5, 0, tzinfo=datetime.timezone.utc),\n",
       "                          datetime.datetime(2015, 1, 6, 5, 0, tzinfo=datetime.timezone.utc),\n",
       "                          datetime.datetime(2015, 1, 7, 5, 0, tzinfo=datetime.timezone.utc), ...,\n",
       "                          datetime.datetime(2024, 12, 31, 5, 0, tzinfo=datetime.timezone.utc),\n",
       "                          datetime.datetime(2025, 1, 2, 5, 0, tzinfo=datetime.timezone.utc),\n",
       "                          datetime.datetime(2025, 1, 3, 5, 0, tzinfo=datetime.timezone.utc)],\n",
       "                         dtype=object),\n",
       "              'y': array([29, 28, 27, 26, 25, 24, 23, 22, 21, 20, 19, 18, 17, 16, 15, 14, 13, 12,\n",
       "                          11, 10,  9,  8,  7,  6,  5,  4,  3,  2,  1,  0]),\n",
       "              'z': array([[nan, nan, nan, ..., nan, nan, nan],\n",
       "                          [nan, nan, nan, ..., nan, nan, nan],\n",
       "                          [nan, nan, nan, ..., nan, nan, nan],\n",
       "                          ...,\n",
       "                          [nan, nan, nan, ..., nan, nan, nan],\n",
       "                          [nan, nan, nan, ..., nan, nan, nan],\n",
       "                          [ 0.,  0.,  0., ..., nan, nan, nan]])},\n",
       "             {'colorscale': [[0.0, '#ff7f0e'], [1.0, '#ff7f0e']],\n",
       "              'hoverongaps': False,\n",
       "              'name': 'test',\n",
       "              'showlegend': True,\n",
       "              'showscale': False,\n",
       "              'type': 'heatmap',\n",
       "              'uid': '791111ce-10cf-44ea-9922-9e24da0be09a',\n",
       "              'x': array([datetime.datetime(2015, 1, 5, 5, 0, tzinfo=datetime.timezone.utc),\n",
       "                          datetime.datetime(2015, 1, 6, 5, 0, tzinfo=datetime.timezone.utc),\n",
       "                          datetime.datetime(2015, 1, 7, 5, 0, tzinfo=datetime.timezone.utc), ...,\n",
       "                          datetime.datetime(2024, 12, 31, 5, 0, tzinfo=datetime.timezone.utc),\n",
       "                          datetime.datetime(2025, 1, 2, 5, 0, tzinfo=datetime.timezone.utc),\n",
       "                          datetime.datetime(2025, 1, 3, 5, 0, tzinfo=datetime.timezone.utc)],\n",
       "                         dtype=object),\n",
       "              'y': array([29, 28, 27, 26, 25, 24, 23, 22, 21, 20, 19, 18, 17, 16, 15, 14, 13, 12,\n",
       "                          11, 10,  9,  8,  7,  6,  5,  4,  3,  2,  1,  0]),\n",
       "              'z': array([[nan, nan, nan, ...,  1.,  1.,  1.],\n",
       "                          [nan, nan, nan, ..., nan, nan, nan],\n",
       "                          [nan, nan, nan, ..., nan, nan, nan],\n",
       "                          ...,\n",
       "                          [nan, nan, nan, ..., nan, nan, nan],\n",
       "                          [nan, nan, nan, ..., nan, nan, nan],\n",
       "                          [nan, nan, nan, ..., nan, nan, nan]])}],\n",
       "    'layout': {'height': 216,\n",
       "               'legend': {'orientation': 'h',\n",
       "                          'traceorder': 'normal',\n",
       "                          'x': 1,\n",
       "                          'xanchor': 'right',\n",
       "                          'y': 1.02,\n",
       "                          'yanchor': 'bottom'},\n",
       "               'margin': {'b': 30, 'l': 30, 'r': 30, 't': 30},\n",
       "               'template': '...',\n",
       "               'width': 700,\n",
       "               'yaxis': {'type': 'category'}}\n",
       "})"
      ]
     },
     "execution_count": 15,
     "metadata": {},
     "output_type": "execute_result"
    }
   ],
   "source": [
    "prices.vbt. rolling_split(\n",
    "    n=30,\n",
    "    window_len=365 * 2, \n",
    "    set_lens= (180,), \n",
    "    left_to_right=False,\n",
    "    trace_names =[\"train\", \"test\"], \n",
    "    plot=True,\n",
    ")"
   ]
  },
  {
   "cell_type": "markdown",
   "id": "42148cf4-897e-4175-ad44-c1e88ae14c25",
   "metadata": {},
   "source": [
    "Define a helper function to simulate all parameter combinations and return the Sharpe ratio"
   ]
  },
  {
   "cell_type": "code",
   "execution_count": 16,
   "id": "bb0718c1-01fe-46c2-9fcd-3d515123fac6",
   "metadata": {},
   "outputs": [],
   "source": [
    "def simulate_all_params(price, windows, **kwargs):\n",
    "    \"\"\"\n",
    "    Simulate all parameter combinations and return Sharpe ratio\n",
    "    \n",
    "    This function runs combinations of moving averages and \n",
    "    calculates the Sharpe ratio for each run.\n",
    "    \n",
    "    Parameters\n",
    "    ----------\n",
    "    price:  pd.Series\n",
    "        Price data for the asset\n",
    "    windows :  np.ndarray\n",
    "        Array of window sizes to test \n",
    "    kwargs: dict\n",
    "        Additional arguments for the portfolio simulation\n",
    "    \n",
    "    Returns\n",
    "    -------\n",
    "    pd. DataFrame\n",
    "        DataFrame containing Sharpe ratios for each combination\n",
    "    \"\"\"\n",
    "    fast_ma, slow_ma = vbt.MA.run_combs(\n",
    "        price, windows, r=2, short_names=[\"fast\", \"slow\"]\n",
    "    )\n",
    "    \n",
    "    entries = fast_ma.ma_crossed_above(slow_ma)\n",
    "    exits = fast_ma.ma_crossed_below(slow_ma)\n",
    "\n",
    "    pf = vbt.Portfolio.from_signals(price, entries, exits, **kwargs)\n",
    "    return pf.sharpe_ratio()"
   ]
  },
  {
   "cell_type": "markdown",
   "id": "067c07b1-8c0e-44da-a25e-ae7e1ed2ca27",
   "metadata": {},
   "source": [
    "Define a helper function to get the best parameters given their indexes"
   ]
  },
  {
   "cell_type": "code",
   "execution_count": 17,
   "id": "acb37019-954b-449e-9653-98cfbb242e95",
   "metadata": {},
   "outputs": [],
   "source": [
    "def get_best_params(performance, level_name):\n",
    "    \"\"\"\n",
    "    Get the best parameters based on performance\n",
    "    \n",
    "    This function retrieves the parameter values that\n",
    "    maximize performance for each split.\n",
    "\n",
    "    Parameters\n",
    "    ----------\n",
    "    performance : pd. DataFrame\n",
    "        Dataframe containing performance metrics \n",
    "    level name : str\n",
    "        The level name to extract parameter values from\n",
    "\n",
    "    Returns\n",
    "    -------\n",
    "    np.ndarray\n",
    "        Array of best parameter values\n",
    "    \"\"\"\n",
    "\n",
    "    idx = performance[performance.groupby(\"split_idx\").idxmax()].index\n",
    "    return idx.get_level_values(level_name).to_numpy()"
   ]
  },
  {
   "cell_type": "markdown",
   "id": "a33d64aa-6a37-47d7-be7d-5cfe41cc9e1a",
   "metadata": {},
   "source": [
    "Define a helper function to get the indexes of the best parameter combinations"
   ]
  },
  {
   "cell_type": "code",
   "execution_count": 18,
   "id": "c3664800-42ca-4070-bb7d-53bd911de37a",
   "metadata": {},
   "outputs": [],
   "source": [
    "def get_best_index (performance):\n",
    "    \"\"\"Get indexes of best parameter combinations\n",
    "    \n",
    "        This function identifies the best parameter combinations\n",
    "        based on performance metrics.\n",
    "        \n",
    "        Parameters\n",
    "        ----------\n",
    "        performance : pd. DataFrame\n",
    "            DataFrame containing performance metrics\n",
    "            \n",
    "        Returns\n",
    "        -------\n",
    "        pd. Index\n",
    "            Index containing the best parameter combinations\n",
    "    \"\"\"\n",
    "    return performance[performance.groupby(\"split_idx\").idxmax()].index"
   ]
  },
  {
   "cell_type": "markdown",
   "id": "2d499988-c0d0-40e6-8653-611e9c1b86d7",
   "metadata": {},
   "source": [
    "Define a helper function to simulate the best parameters for each split"
   ]
  },
  {
   "cell_type": "code",
   "execution_count": 19,
   "id": "42a3a407-d93b-4b60-b6e3-4a82f17e64c6",
   "metadata": {},
   "outputs": [],
   "source": [
    "def simulate_best_params(price, best_fast_windows, best_slow_windows, **kwargs):\n",
    "    \"\"\"Simulate best parameters for each split\n",
    "\n",
    "    This function runs the best parameter combinations\n",
    "    and calculates the Sharpe ratio.\n",
    "\n",
    "    Parameters\n",
    "    ----------\n",
    "    price : pd.Series\n",
    "        Price data for the asset \n",
    "    best_fast_windows : np.ndarray\n",
    "        Array of best fast window sizes \n",
    "    best_slow_windows: np.ndarray\n",
    "        Array of best slow window sizes \n",
    "    kwargs: dict\n",
    "        Additional arguments for the portfolio simulation\n",
    "    \n",
    "    Returns\n",
    "    -------\n",
    "    pd. DataFrame\n",
    "        DataFrame containing Sharpe ratios for the best parameters\n",
    "    \"\"\"\n",
    "    fast_ma = vbt.MA.run(price, window=best_fast_windows, per_column=True)\n",
    "    slow_ma = vbt.MA.run(price, window=best_slow_windows, per_column=True)\n",
    "    \n",
    "    entries = fast_ma.ma_crossed_above(slow_ma)\n",
    "    exits = fast_ma.ma_crossed_below(slow_ma)\n",
    "    \n",
    "    pf = vbt.Portfolio.from_signals(price, entries, exits, **kwargs)\n",
    "    return pf.sharpe_ratio()"
   ]
  },
  {
   "cell_type": "markdown",
   "id": "9b172460-1b2d-43df-8253-f3ff11321dd7",
   "metadata": {},
   "source": [
    "Simulate all moving average window combinations for in-sample data to find the best Sharpe ratio"
   ]
  },
  {
   "cell_type": "code",
   "execution_count": 20,
   "id": "a0d20c7e-2b86-4c87-9b2e-9c99bb223c94",
   "metadata": {},
   "outputs": [
    {
     "data": {
      "text/plain": [
       "fast_window  slow_window  split_idx\n",
       "10           11           0            1.242212\n",
       "                          1            1.036683\n",
       "                          2            1.289575\n",
       "                          3            2.051369\n",
       "                          4            1.427594\n",
       "                                         ...   \n",
       "48           49           25          -0.277185\n",
       "                          26           0.230947\n",
       "                          27           0.292398\n",
       "                          28           0.052446\n",
       "                          29           0.120119\n",
       "Name: sharpe_ratio, Length: 23400, dtype: float64"
      ]
     },
     "execution_count": 20,
     "metadata": {},
     "output_type": "execute_result"
    }
   ],
   "source": [
    "in_sharpe = simulate_all_params(\n",
    "    in_price, \n",
    "    windows, \n",
    "    direction=\"both\", \n",
    "    freq=\"d\"\n",
    ")\n",
    "in_sharpe"
   ]
  },
  {
   "cell_type": "markdown",
   "id": "f1bdbd70-70b8-4fd2-a3d6-1623c145bc4b",
   "metadata": {},
   "source": [
    "Get the indexes of the best parameter combinations for in-sample data"
   ]
  },
  {
   "cell_type": "code",
   "execution_count": 21,
   "id": "402f99ed-5d04-4644-ac11-c32a365dffb9",
   "metadata": {},
   "outputs": [
    {
     "data": {
      "text/plain": [
       "MultiIndex([(10, 17,  0),\n",
       "            (10, 17,  1),\n",
       "            (10, 17,  2),\n",
       "            (10, 11,  3),\n",
       "            (10, 11,  4),\n",
       "            (48, 49,  5),\n",
       "            (48, 49,  6),\n",
       "            (24, 25,  7),\n",
       "            (24, 25,  8),\n",
       "            (23, 25,  9),\n",
       "            (23, 25, 10),\n",
       "            (20, 26, 11),\n",
       "            (18, 27, 12),\n",
       "            (18, 27, 13),\n",
       "            (18, 19, 14),\n",
       "            (11, 21, 15),\n",
       "            (20, 46, 16),\n",
       "            (18, 20, 17),\n",
       "            (18, 20, 18),\n",
       "            (18, 20, 19),\n",
       "            (18, 20, 20),\n",
       "            (37, 39, 21),\n",
       "            (20, 21, 22),\n",
       "            (19, 21, 23),\n",
       "            (19, 20, 24),\n",
       "            (16, 18, 25),\n",
       "            (10, 14, 26),\n",
       "            (10, 14, 27),\n",
       "            (10, 14, 28),\n",
       "            (17, 38, 29)],\n",
       "           names=['fast_window', 'slow_window', 'split_idx'])"
      ]
     },
     "execution_count": 21,
     "metadata": {},
     "output_type": "execute_result"
    }
   ],
   "source": [
    "in_best_index = get_best_index(in_sharpe)\n",
    "in_best_index"
   ]
  },
  {
   "cell_type": "markdown",
   "id": "273fc8d3-b619-45d7-9fdd-c73a0c0724f4",
   "metadata": {},
   "source": [
    "Get the fast moving average windows that maximize the in ™sample Sharpe ratio for each split"
   ]
  },
  {
   "cell_type": "code",
   "execution_count": 22,
   "id": "02041470-5ad4-42e0-ad0b-0fa8dbb35f87",
   "metadata": {},
   "outputs": [
    {
     "data": {
      "text/plain": [
       "array([10, 10, 10, 10, 10, 48, 48, 24, 24, 23, 23, 20, 18, 18, 18, 11, 20,\n",
       "       18, 18, 18, 18, 37, 20, 19, 19, 16, 10, 10, 10, 17])"
      ]
     },
     "execution_count": 22,
     "metadata": {},
     "output_type": "execute_result"
    }
   ],
   "source": [
    "in_best_fast_windows = get_best_params(in_sharpe, \"fast_window\")\n",
    "in_best_fast_windows"
   ]
  },
  {
   "cell_type": "markdown",
   "id": "a6886e41-3c54-40f3-a003-e27fd8992e0d",
   "metadata": {},
   "source": [
    "Get the slow moving average windows that maximize the in-sample Sharpe ratio for each split"
   ]
  },
  {
   "cell_type": "code",
   "execution_count": 23,
   "id": "9cef1ed1-cb74-4afc-b1f4-aa8b1ea5ab04",
   "metadata": {},
   "outputs": [
    {
     "data": {
      "text/plain": [
       "array([17, 17, 17, 11, 11, 49, 49, 25, 25, 25, 25, 26, 27, 27, 19, 21, 46,\n",
       "       20, 20, 20, 20, 39, 21, 21, 20, 18, 14, 14, 14, 38])"
      ]
     },
     "execution_count": 23,
     "metadata": {},
     "output_type": "execute_result"
    }
   ],
   "source": [
    "in_best_slow_windows = get_best_params(in_sharpe, \"slow_window\")\n",
    "in_best_slow_windows"
   ]
  },
  {
   "cell_type": "markdown",
   "id": "10e9959a-be16-4264-8a67-5cfb9aef7f66",
   "metadata": {},
   "source": [
    "Combine the best moving average window pairs"
   ]
  },
  {
   "cell_type": "code",
   "execution_count": 24,
   "id": "474da26f-e407-4aef-b30f-796185ffc16e",
   "metadata": {},
   "outputs": [
    {
     "data": {
      "text/plain": [
       "array([[10, 17],\n",
       "       [10, 17],\n",
       "       [10, 17],\n",
       "       [10, 11],\n",
       "       [10, 11],\n",
       "       [48, 49],\n",
       "       [48, 49],\n",
       "       [24, 25],\n",
       "       [24, 25],\n",
       "       [23, 25],\n",
       "       [23, 25],\n",
       "       [20, 26],\n",
       "       [18, 27],\n",
       "       [18, 27],\n",
       "       [18, 19],\n",
       "       [11, 21],\n",
       "       [20, 46],\n",
       "       [18, 20],\n",
       "       [18, 20],\n",
       "       [18, 20],\n",
       "       [18, 20],\n",
       "       [37, 39],\n",
       "       [20, 21],\n",
       "       [19, 21],\n",
       "       [19, 20],\n",
       "       [16, 18],\n",
       "       [10, 14],\n",
       "       [10, 14],\n",
       "       [10, 14],\n",
       "       [17, 38]])"
      ]
     },
     "execution_count": 24,
     "metadata": {},
     "output_type": "execute_result"
    }
   ],
   "source": [
    "in_best_window_pairs = np.array(list(zip(in_best_fast_windows, in_best_slow_windows)))\n",
    "in_best_window_pairs"
   ]
  },
  {
   "cell_type": "markdown",
   "id": "add66efb-83ee-4791-b981-a636b961020a",
   "metadata": {},
   "source": [
    "Simulate all moving average window combinations for out-of-sample data to find the best Sharpe ratio"
   ]
  },
  {
   "cell_type": "code",
   "execution_count": 25,
   "id": "be7af038-e535-470e-9aff-3cd4a835e646",
   "metadata": {},
   "outputs": [
    {
     "data": {
      "text/plain": [
       "fast_window  slow_window  split_idx\n",
       "10           11           0            1.854179\n",
       "                          1            0.483929\n",
       "                          2           -1.344980\n",
       "                          3           -0.844082\n",
       "                          4           -0.475928\n",
       "                                         ...   \n",
       "48           49           25          -0.305775\n",
       "                          26          -0.515798\n",
       "                          27           1.649000\n",
       "                          28           1.532408\n",
       "                          29          -0.151780\n",
       "Name: sharpe_ratio, Length: 23400, dtype: float64"
      ]
     },
     "execution_count": 25,
     "metadata": {},
     "output_type": "execute_result"
    }
   ],
   "source": [
    "out_sharpe = simulate_all_params(\n",
    "    out_price, \n",
    "    windows, \n",
    "    direction=\"both\", \n",
    "    freq=\"d\"\n",
    ")\n",
    "out_sharpe"
   ]
  },
  {
   "cell_type": "markdown",
   "id": "790bbb05-88ee-4207-9cc1-4d6763c7699d",
   "metadata": {},
   "source": [
    "Evaluate the performance of the best in-sample parameters on out-of-sample data"
   ]
  },
  {
   "cell_type": "code",
   "execution_count": 26,
   "id": "ac2c7adc-d68f-4496-a248-f9824ddd4bb1",
   "metadata": {},
   "outputs": [
    {
     "data": {
      "text/plain": [
       "ma_window  ma_window  split_idx\n",
       "10         17         0            1.467409\n",
       "                      1            1.044320\n",
       "                      2           -2.216971\n",
       "           11         3           -0.844082\n",
       "                      4           -0.475928\n",
       "48         49         5            0.663517\n",
       "                      6            1.065501\n",
       "24         25         7            0.312871\n",
       "                      8            0.557717\n",
       "23         25         9            3.576687\n",
       "                      10           1.043349\n",
       "20         26         11           2.038092\n",
       "18         27         12           1.439517\n",
       "                      13           0.851511\n",
       "           19         14           0.455529\n",
       "11         21         15           0.589951\n",
       "20         46         16          -0.226141\n",
       "18         20         17           1.032577\n",
       "                      18          -0.273849\n",
       "                      19          -0.672301\n",
       "                      20           0.509168\n",
       "37         39         21          -1.610192\n",
       "20         21         22           1.960448\n",
       "19         21         23           1.832584\n",
       "           20         24          -0.123172\n",
       "16         18         25          -3.801104\n",
       "10         14         26          -0.444624\n",
       "                      27           1.445064\n",
       "                      28           0.189347\n",
       "17         38         29          -2.151037\n",
       "Name: sharpe_ratio, dtype: float64"
      ]
     },
     "execution_count": 26,
     "metadata": {},
     "output_type": "execute_result"
    }
   ],
   "source": [
    "out_test_sharpe = simulate_best_params(\n",
    "out_price, in_best_fast_windows, in_best_slow_windows, direction=\"both\", freq=\"d\"\n",
    ")\n",
    "out_test_sharpe"
   ]
  },
  {
   "cell_type": "markdown",
   "id": "33399205-bc16-4cc1-8b67-fa6c1145864b",
   "metadata": {},
   "source": [
    "Calculate the median Sharpe ratio for in-sample data and the test Sharpe ratio for out-of-sample data"
   ]
  },
  {
   "cell_type": "code",
   "execution_count": 27,
   "id": "7b9987b5-ae8b-4bf1-956b-d7b250cc6ca3",
   "metadata": {},
   "outputs": [
    {
     "name": "stdout",
     "output_type": "stream",
     "text": [
      "30 30\n"
     ]
    }
   ],
   "source": [
    "in_sample_median = in_sharpe.groupby(\"split_idx\"). median().values\n",
    "out_sample_test = out_test_sharpe.values\n",
    "print(len (in_sample_median), len(out_sample_test))"
   ]
  },
  {
   "cell_type": "markdown",
   "id": "72223a7c-3511-4f25-9298-4288a3842b81",
   "metadata": {},
   "source": [
    "Run a one-sided t-test to compare the mean Sharpe ratios of in-sample and out-of-sample data"
   ]
  },
  {
   "cell_type": "code",
   "execution_count": 28,
   "id": "1ab65a97-80b4-4b9b-bbee-5296d7812c2e",
   "metadata": {},
   "outputs": [
    {
     "data": {
      "text/plain": [
       "(-0.2581381623719491, 0.6013929647736866)"
      ]
     },
     "execution_count": 28,
     "metadata": {},
     "output_type": "execute_result"
    }
   ],
   "source": [
    "t, p = stats.ttest_ind (a=out_sample_test, b=in_sample_median, alternative=\"greater\")\n",
    "t, p"
   ]
  },
  {
   "cell_type": "code",
   "execution_count": null,
   "id": "3537d6b0-b3c2-4938-9bfe-3bf9c18851ca",
   "metadata": {},
   "outputs": [],
   "source": []
  }
 ],
 "metadata": {
  "kernelspec": {
   "display_name": "Python 3 (ipykernel)",
   "language": "python",
   "name": "python3"
  },
  "language_info": {
   "codemirror_mode": {
    "name": "ipython",
    "version": 3
   },
   "file_extension": ".py",
   "mimetype": "text/x-python",
   "name": "python",
   "nbconvert_exporter": "python",
   "pygments_lexer": "ipython3",
   "version": "3.9.13"
  }
 },
 "nbformat": 4,
 "nbformat_minor": 5
}
