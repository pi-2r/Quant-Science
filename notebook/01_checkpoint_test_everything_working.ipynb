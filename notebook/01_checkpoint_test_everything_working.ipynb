{
 "cells": [
  {
   "cell_type": "markdown",
   "id": "18feb314",
   "metadata": {},
   "source": [
    "This notebook demonstrates how to retrieve historical stock prices, calculate returns, and generate performance analysis reports. It uses the OpenBB library to fetch historical stock data for a specified period. The data is then visualized and analyzed using rolling averages and percentage changes. Pyfolio is employed to create a comprehensive performance analysis tear sheet. This workflow is useful for financial analysis, backtesting strategies, and understanding asset performance."
   ]
  },
  {
   "cell_type": "code",
   "execution_count": null,
   "id": "2b0ec80e",
   "metadata": {},
   "outputs": [],
   "source": [
    "import warnings\n",
    "from openbb import obb\n",
    "import pandas as pd\n",
    "import scipy\n",
    "obb.user.preferences.output_type = \"dataframe\"\n",
    "warnings.filterwarnings(\"ignore\")"
   ]
  },
  {
   "cell_type": "markdown",
   "id": "d36c1958",
   "metadata": {},
   "source": [
    "Fetch historical stock price data for AAPL from 2012-06-01 to 2022-06-30 using yfinance provider"
   ]
  },
  {
   "cell_type": "code",
   "execution_count": null,
   "id": "3d64bfe4",
   "metadata": {},
   "outputs": [],
   "source": [
    "close = obb.equity.price.historical(\n",
    "    \"AAPL\", \n",
    "    start_date=\"2012-06-01\", \n",
    "    end_date=\"2022-06-30\", \n",
    "    provider=\"cboe\"\n",
    ").close"
   ]
  },
  {
   "cell_type": "markdown",
   "id": "7b0b143e",
   "metadata": {},
   "source": [
    "Plot the historical closing prices for AAPL"
   ]
  },
  {
   "cell_type": "code",
   "execution_count": null,
   "id": "7d987be9",
   "metadata": {},
   "outputs": [],
   "source": [
    "close.plot()"
   ]
  },
  {
   "cell_type": "markdown",
   "id": "fd94a67c",
   "metadata": {},
   "source": [
    "Plot the historical closing prices and their 30-day rolling average"
   ]
  },
  {
   "cell_type": "code",
   "execution_count": null,
   "id": "23b6e166",
   "metadata": {},
   "outputs": [],
   "source": [
    "close.plot()\n",
    "close.rolling(30).mean().plot()"
   ]
  },
  {
   "cell_type": "markdown",
   "id": "ce0cafc1",
   "metadata": {},
   "source": [
    "Calculate the daily returns from the closing prices and convert the index to datetime"
   ]
  },
  {
   "cell_type": "code",
   "execution_count": null,
   "id": "4be96630",
   "metadata": {},
   "outputs": [],
   "source": [
    "returns = close.pct_change().dropna()\n",
    "returns.index = pd.to_datetime(returns.index)"
   ]
  },
  {
   "cell_type": "markdown",
   "id": "ea4ae154-685a-45e1-ab92-90e844b8bded",
   "metadata": {},
   "source": [
    "Build a simple histogram of the returns."
   ]
  },
  {
   "cell_type": "code",
   "execution_count": null,
   "id": "68410945-5635-4f74-93de-e5ba4cd150ed",
   "metadata": {},
   "outputs": [],
   "source": [
    "returns.plot(kind=\"hist\", bins=50)"
   ]
  },
  {
   "cell_type": "markdown",
   "id": "52b373fb-14f1-4075-9f82-61ed503facc7",
   "metadata": {},
   "source": [
    "Get the skew and kurtosis of returns."
   ]
  },
  {
   "cell_type": "code",
   "execution_count": null,
   "id": "ebca84f5-2c5a-491e-a6b0-efb90cc7d62d",
   "metadata": {},
   "outputs": [],
   "source": [
    "scipy.stats.skew(returns), scipy.stats.kurtosis(returns), "
   ]
  }
 ],
 "metadata": {
  "jupytext": {
   "cell_metadata_filter": "-all",
   "main_language": "python",
   "notebook_metadata_filter": "-all"
  },
  "kernelspec": {
   "display_name": "Python 3 (ipykernel)",
   "language": "python",
   "name": "python3"
  },
  "language_info": {
   "codemirror_mode": {
    "name": "ipython",
    "version": 3
   },
   "file_extension": ".py",
   "mimetype": "text/x-python",
   "name": "python",
   "nbconvert_exporter": "python",
   "pygments_lexer": "ipython3",
   "version": "3.9.13"
  }
 },
 "nbformat": 4,
 "nbformat_minor": 5
}
