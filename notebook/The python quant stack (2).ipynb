{
 "cells": [
  {
   "cell_type": "code",
   "execution_count": 1,
   "id": "910695e1-efbc-446e-9133-992fbb3a0a10",
   "metadata": {},
   "outputs": [],
   "source": [
    "import matplotlib.pyplot as plt\n",
    "import numpy as np\n",
    "import pandas as pd\n",
    "from openbb import obb\n",
    "obb.user.preferences.output_type=\"dataframe\""
   ]
  },
  {
   "cell_type": "code",
   "execution_count": 2,
   "id": "2bf97060-3025-4cb9-91fc-1076d93d5748",
   "metadata": {},
   "outputs": [
    {
     "data": {
      "text/html": [
       "<div>\n",
       "<style scoped>\n",
       "    .dataframe tbody tr th:only-of-type {\n",
       "        vertical-align: middle;\n",
       "    }\n",
       "\n",
       "    .dataframe tbody tr th {\n",
       "        vertical-align: top;\n",
       "    }\n",
       "\n",
       "    .dataframe thead th {\n",
       "        text-align: right;\n",
       "    }\n",
       "</style>\n",
       "<table border=\"1\" class=\"dataframe\">\n",
       "  <thead>\n",
       "    <tr style=\"text-align: right;\">\n",
       "      <th></th>\n",
       "      <th>0</th>\n",
       "      <th>1</th>\n",
       "      <th>2</th>\n",
       "      <th>3</th>\n",
       "      <th>4</th>\n",
       "      <th>5</th>\n",
       "      <th>6</th>\n",
       "      <th>7</th>\n",
       "      <th>8</th>\n",
       "      <th>9</th>\n",
       "    </tr>\n",
       "  </thead>\n",
       "  <tbody>\n",
       "    <tr>\n",
       "      <th>0</th>\n",
       "      <td>1.012735</td>\n",
       "      <td>0.964595</td>\n",
       "      <td>0.994036</td>\n",
       "      <td>1.016324</td>\n",
       "      <td>0.988231</td>\n",
       "      <td>0.957267</td>\n",
       "      <td>1.017811</td>\n",
       "      <td>1.026432</td>\n",
       "      <td>0.970081</td>\n",
       "      <td>0.979003</td>\n",
       "    </tr>\n",
       "    <tr>\n",
       "      <th>1</th>\n",
       "      <td>0.966261</td>\n",
       "      <td>0.991931</td>\n",
       "      <td>0.970783</td>\n",
       "      <td>1.070175</td>\n",
       "      <td>0.966638</td>\n",
       "      <td>1.014619</td>\n",
       "      <td>0.973486</td>\n",
       "      <td>0.978490</td>\n",
       "      <td>1.028164</td>\n",
       "      <td>0.992150</td>\n",
       "    </tr>\n",
       "    <tr>\n",
       "      <th>2</th>\n",
       "      <td>1.029938</td>\n",
       "      <td>1.004757</td>\n",
       "      <td>0.965853</td>\n",
       "      <td>1.030951</td>\n",
       "      <td>0.955559</td>\n",
       "      <td>1.044771</td>\n",
       "      <td>0.994784</td>\n",
       "      <td>1.012033</td>\n",
       "      <td>1.026179</td>\n",
       "      <td>1.011855</td>\n",
       "    </tr>\n",
       "    <tr>\n",
       "      <th>3</th>\n",
       "      <td>1.038150</td>\n",
       "      <td>1.000006</td>\n",
       "      <td>0.968636</td>\n",
       "      <td>0.992068</td>\n",
       "      <td>1.008178</td>\n",
       "      <td>0.972176</td>\n",
       "      <td>1.002671</td>\n",
       "      <td>1.006208</td>\n",
       "      <td>0.960715</td>\n",
       "      <td>0.978282</td>\n",
       "    </tr>\n",
       "    <tr>\n",
       "      <th>4</th>\n",
       "      <td>1.022328</td>\n",
       "      <td>1.037478</td>\n",
       "      <td>0.980654</td>\n",
       "      <td>0.998457</td>\n",
       "      <td>1.030851</td>\n",
       "      <td>0.962107</td>\n",
       "      <td>1.003120</td>\n",
       "      <td>1.016259</td>\n",
       "      <td>0.974942</td>\n",
       "      <td>1.008499</td>\n",
       "    </tr>\n",
       "    <tr>\n",
       "      <th>...</th>\n",
       "      <td>...</td>\n",
       "      <td>...</td>\n",
       "      <td>...</td>\n",
       "      <td>...</td>\n",
       "      <td>...</td>\n",
       "      <td>...</td>\n",
       "      <td>...</td>\n",
       "      <td>...</td>\n",
       "      <td>...</td>\n",
       "      <td>...</td>\n",
       "    </tr>\n",
       "    <tr>\n",
       "      <th>95</th>\n",
       "      <td>1.067191</td>\n",
       "      <td>0.971302</td>\n",
       "      <td>1.038672</td>\n",
       "      <td>0.989832</td>\n",
       "      <td>0.979230</td>\n",
       "      <td>0.997152</td>\n",
       "      <td>1.004354</td>\n",
       "      <td>0.983663</td>\n",
       "      <td>1.020571</td>\n",
       "      <td>0.990419</td>\n",
       "    </tr>\n",
       "    <tr>\n",
       "      <th>96</th>\n",
       "      <td>0.976650</td>\n",
       "      <td>1.016155</td>\n",
       "      <td>1.014354</td>\n",
       "      <td>0.994600</td>\n",
       "      <td>1.005466</td>\n",
       "      <td>1.027007</td>\n",
       "      <td>1.010174</td>\n",
       "      <td>0.998492</td>\n",
       "      <td>0.997933</td>\n",
       "      <td>0.990248</td>\n",
       "    </tr>\n",
       "    <tr>\n",
       "      <th>97</th>\n",
       "      <td>1.083191</td>\n",
       "      <td>0.974303</td>\n",
       "      <td>1.039330</td>\n",
       "      <td>0.970942</td>\n",
       "      <td>1.014480</td>\n",
       "      <td>0.988206</td>\n",
       "      <td>1.046362</td>\n",
       "      <td>0.987365</td>\n",
       "      <td>1.029964</td>\n",
       "      <td>0.978361</td>\n",
       "    </tr>\n",
       "    <tr>\n",
       "      <th>98</th>\n",
       "      <td>1.066721</td>\n",
       "      <td>0.979587</td>\n",
       "      <td>0.941947</td>\n",
       "      <td>1.005642</td>\n",
       "      <td>1.014913</td>\n",
       "      <td>0.997354</td>\n",
       "      <td>1.035081</td>\n",
       "      <td>1.018144</td>\n",
       "      <td>1.024125</td>\n",
       "      <td>0.957582</td>\n",
       "    </tr>\n",
       "    <tr>\n",
       "      <th>99</th>\n",
       "      <td>1.032447</td>\n",
       "      <td>0.989643</td>\n",
       "      <td>1.000733</td>\n",
       "      <td>0.968745</td>\n",
       "      <td>0.989743</td>\n",
       "      <td>1.011417</td>\n",
       "      <td>0.983938</td>\n",
       "      <td>0.993078</td>\n",
       "      <td>1.000459</td>\n",
       "      <td>0.993606</td>\n",
       "    </tr>\n",
       "  </tbody>\n",
       "</table>\n",
       "<p>100 rows × 10 columns</p>\n",
       "</div>"
      ],
      "text/plain": [
       "           0         1         2         3         4         5         6  \\\n",
       "0   1.012735  0.964595  0.994036  1.016324  0.988231  0.957267  1.017811   \n",
       "1   0.966261  0.991931  0.970783  1.070175  0.966638  1.014619  0.973486   \n",
       "2   1.029938  1.004757  0.965853  1.030951  0.955559  1.044771  0.994784   \n",
       "3   1.038150  1.000006  0.968636  0.992068  1.008178  0.972176  1.002671   \n",
       "4   1.022328  1.037478  0.980654  0.998457  1.030851  0.962107  1.003120   \n",
       "..       ...       ...       ...       ...       ...       ...       ...   \n",
       "95  1.067191  0.971302  1.038672  0.989832  0.979230  0.997152  1.004354   \n",
       "96  0.976650  1.016155  1.014354  0.994600  1.005466  1.027007  1.010174   \n",
       "97  1.083191  0.974303  1.039330  0.970942  1.014480  0.988206  1.046362   \n",
       "98  1.066721  0.979587  0.941947  1.005642  1.014913  0.997354  1.035081   \n",
       "99  1.032447  0.989643  1.000733  0.968745  0.989743  1.011417  0.983938   \n",
       "\n",
       "           7         8         9  \n",
       "0   1.026432  0.970081  0.979003  \n",
       "1   0.978490  1.028164  0.992150  \n",
       "2   1.012033  1.026179  1.011855  \n",
       "3   1.006208  0.960715  0.978282  \n",
       "4   1.016259  0.974942  1.008499  \n",
       "..       ...       ...       ...  \n",
       "95  0.983663  1.020571  0.990419  \n",
       "96  0.998492  0.997933  0.990248  \n",
       "97  0.987365  1.029964  0.978361  \n",
       "98  1.018144  1.024125  0.957582  \n",
       "99  0.993078  1.000459  0.993606  \n",
       "\n",
       "[100 rows x 10 columns]"
      ]
     },
     "execution_count": 2,
     "metadata": {},
     "output_type": "execute_result"
    }
   ],
   "source": [
    "pd.DataFrame(np.random.normal(1.0, 0.03, (100, 10)))"
   ]
  },
  {
   "cell_type": "code",
   "execution_count": 3,
   "id": "3a803206-e149-4054-887c-9dbd9eeb621d",
   "metadata": {},
   "outputs": [
    {
     "data": {
      "text/plain": [
       "<matplotlib.legend.Legend at 0x7facae0a7070>"
      ]
     },
     "execution_count": 3,
     "metadata": {},
     "output_type": "execute_result"
    },
    {
     "data": {
      "image/png": "[encoded data removed]",
      "text/plain": [
       "<Figure size 640x480 with 1 Axes>"
      ]
     },
     "metadata": {},
     "output_type": "display_data"
    }
   ],
   "source": [
    "returns = pd.DataFrame(np.random.normal(1.0, 0.03, (100, 10)))\n",
    "prices = returns.cumprod()\n",
    "prices.plot()\n",
    "plt.title(\"Randomly-generated prices\")\n",
    "plt.xlabel(\"Time\")\n",
    "plt.ylabel(\"Price\")\n",
    "plt.legend(loc=0)"
   ]
  },
  {
   "cell_type": "code",
   "execution_count": 4,
   "id": "469a0295-7fed-483e-90b2-1482153d198d",
   "metadata": {},
   "outputs": [
    {
     "name": "stdout",
     "output_type": "stream",
     "text": [
      "0    1.0\n",
      "1    2.0\n",
      "2    NaN\n",
      "3    4.0\n",
      "4    5.0\n",
      "dtype: float64\n"
     ]
    }
   ],
   "source": [
    "s = pd.Series([1,2, np.nan, 4,5])\n",
    "print(s)"
   ]
  },
  {
   "cell_type": "code",
   "execution_count": 5,
   "id": "194a4f7b-b649-43ab-8ff4-023f52593204",
   "metadata": {},
   "outputs": [
    {
     "name": "stdout",
     "output_type": "stream",
     "text": [
      "None\n"
     ]
    }
   ],
   "source": [
    "print(s.name)"
   ]
  },
  {
   "cell_type": "code",
   "execution_count": 6,
   "id": "14ded304-5568-45ef-8607-e5b3be00a78e",
   "metadata": {},
   "outputs": [],
   "source": [
    "s.name = \"Toys Series\""
   ]
  },
  {
   "cell_type": "code",
   "execution_count": 7,
   "id": "e0fcde5a-c04f-4f12-9cc8-325dcb0a284e",
   "metadata": {},
   "outputs": [
    {
     "name": "stdout",
     "output_type": "stream",
     "text": [
      "Toys Series\n"
     ]
    }
   ],
   "source": [
    "print(s.name)"
   ]
  },
  {
   "cell_type": "code",
   "execution_count": 8,
   "id": "c18db8fd-fe43-4566-a7de-ffb3fea7cb05",
   "metadata": {},
   "outputs": [
    {
     "name": "stdout",
     "output_type": "stream",
     "text": [
      "RangeIndex(start=0, stop=5, step=1)\n"
     ]
    }
   ],
   "source": [
    "print(s.index)"
   ]
  },
  {
   "cell_type": "code",
   "execution_count": 9,
   "id": "272c5419-6af4-415a-a437-723552073e38",
   "metadata": {},
   "outputs": [
    {
     "data": {
      "text/plain": [
       "5"
      ]
     },
     "execution_count": 9,
     "metadata": {},
     "output_type": "execute_result"
    }
   ],
   "source": [
    "len(s)"
   ]
  },
  {
   "cell_type": "code",
   "execution_count": 10,
   "id": "2f5cc62a-77b1-49c4-80f4-8c355505147a",
   "metadata": {},
   "outputs": [
    {
     "name": "stdout",
     "output_type": "stream",
     "text": [
      "DatetimeIndex(['2016-01-01', '2016-01-02', '2016-01-03', '2016-01-04',\n",
      "               '2016-01-05'],\n",
      "              dtype='datetime64[ns]', freq='D')\n"
     ]
    }
   ],
   "source": [
    "new_index = pd.date_range(\"2016-01-01\", periods = len(s), freq= \"D\")\n",
    "print(new_index)"
   ]
  },
  {
   "cell_type": "code",
   "execution_count": 11,
   "id": "e5f78b4e-762e-406c-8970-1f655d588093",
   "metadata": {},
   "outputs": [
    {
     "data": {
      "text/plain": [
       "2016-01-01 00:00:00    464\n",
       "2016-01-01 00:00:01    149\n",
       "2016-01-01 00:00:02    475\n",
       "2016-01-01 00:00:03     44\n",
       "2016-01-01 00:00:04     71\n",
       "                      ... \n",
       "2016-01-01 00:16:35    223\n",
       "2016-01-01 00:16:36    348\n",
       "2016-01-01 00:16:37    287\n",
       "2016-01-01 00:16:38     93\n",
       "2016-01-01 00:16:39    490\n",
       "Freq: s, Length: 1000, dtype: int64"
      ]
     },
     "execution_count": 11,
     "metadata": {},
     "output_type": "execute_result"
    }
   ],
   "source": [
    "rng = pd.date_range(\"1/1/2016\", periods = 1000, freq = \"s\")\n",
    "ts = pd.Series(np.random.randint(0, 500, len(rng)), index=rng)\n",
    "ts"
   ]
  },
  {
   "cell_type": "code",
   "execution_count": 12,
   "id": "951255d9-3d46-4f3e-a3ce-fc3b898d296d",
   "metadata": {},
   "outputs": [
    {
     "data": {
      "text/plain": [
       "DatetimeIndex(['2012-03-31', '2012-06-30', '2012-09-30', '2012-12-31',\n",
       "               '2013-03-31'],\n",
       "              dtype='datetime64[ns]', freq='QE-DEC')"
      ]
     },
     "execution_count": 12,
     "metadata": {},
     "output_type": "execute_result"
    }
   ],
   "source": [
    "rng = pd.date_range(\"1/1/2012\", periods = 5, freq = \"QE\")\n",
    "rng"
   ]
  },
  {
   "cell_type": "code",
   "execution_count": 13,
   "id": "07a2777d-9783-44fc-8bf9-1c63b177a397",
   "metadata": {},
   "outputs": [
    {
     "data": {
      "text/plain": [
       "2012-03-31    0\n",
       "2012-06-30    0\n",
       "2012-09-30    0\n",
       "2012-12-31    0\n",
       "2013-03-31    0\n",
       "Freq: QE-DEC, dtype: int64"
      ]
     },
     "execution_count": 13,
     "metadata": {},
     "output_type": "execute_result"
    }
   ],
   "source": [
    "ts = pd.Series(np.random.randint(len(rng)), index=rng)\n",
    "ts"
   ]
  },
  {
   "cell_type": "code",
   "execution_count": 14,
   "id": "e7d3b8f1-68de-4330-8eac-32137ab922f6",
   "metadata": {},
   "outputs": [
    {
     "data": {
      "text/plain": [
       "2012Q1    0\n",
       "2012Q2    0\n",
       "2012Q3    0\n",
       "2012Q4    0\n",
       "2013Q1    0\n",
       "Freq: Q-DEC, dtype: int64"
      ]
     },
     "execution_count": 14,
     "metadata": {},
     "output_type": "execute_result"
    }
   ],
   "source": [
    "ts.to_period()"
   ]
  },
  {
   "cell_type": "code",
   "execution_count": 15,
   "id": "986eb688-6c5e-4b6a-a935-d86183d26f52",
   "metadata": {},
   "outputs": [],
   "source": [
    "s.index = new_index"
   ]
  },
  {
   "cell_type": "code",
   "execution_count": 16,
   "id": "766359bb-2b72-4af7-a3cb-f6e45a0ef0df",
   "metadata": {},
   "outputs": [
    {
     "name": "stdout",
     "output_type": "stream",
     "text": [
      "DatetimeIndex(['2016-01-01', '2016-01-02', '2016-01-03', '2016-01-04',\n",
      "               '2016-01-05'],\n",
      "              dtype='datetime64[ns]', freq='D')\n"
     ]
    }
   ],
   "source": [
    "print(s.index)"
   ]
  },
  {
   "cell_type": "code",
   "execution_count": 17,
   "id": "eecb8f64-10eb-48e1-b32b-1e3ba0aaeaaf",
   "metadata": {},
   "outputs": [
    {
     "name": "stdout",
     "output_type": "stream",
     "text": [
      "First element of the series:  1.0\n",
      "Last element of the series:  5.0\n"
     ]
    }
   ],
   "source": [
    "print(\"First element of the series: \", s.iloc[0])\n",
    "print(\"Last element of the series: \", s.iloc[len(s) - 1])"
   ]
  },
  {
   "cell_type": "code",
   "execution_count": 18,
   "id": "e7b30c2d-27ac-4235-a885-37528f59c110",
   "metadata": {},
   "outputs": [
    {
     "data": {
      "text/plain": [
       "2016-01-01    1.0\n",
       "2016-01-02    2.0\n",
       "Freq: D, Name: Toys Series, dtype: float64"
      ]
     },
     "execution_count": 18,
     "metadata": {},
     "output_type": "execute_result"
    }
   ],
   "source": [
    "s.iloc [0:2]"
   ]
  },
  {
   "cell_type": "code",
   "execution_count": 19,
   "id": "e51f753e-1e8a-4f3a-82f1-82d23acfb582",
   "metadata": {},
   "outputs": [
    {
     "data": {
      "text/plain": [
       "1.0"
      ]
     },
     "execution_count": 19,
     "metadata": {},
     "output_type": "execute_result"
    }
   ],
   "source": [
    "s.loc[\"2016-01-01\"]"
   ]
  },
  {
   "cell_type": "code",
   "execution_count": 20,
   "id": "bd1fe7f3-ccf7-49fc-965c-509d173aaab9",
   "metadata": {},
   "outputs": [
    {
     "data": {
      "text/plain": [
       "2016-01-02    2.0\n",
       "2016-01-03    NaN\n",
       "2016-01-04    4.0\n",
       "Freq: D, Name: Toys Series, dtype: float64"
      ]
     },
     "execution_count": 20,
     "metadata": {},
     "output_type": "execute_result"
    }
   ],
   "source": [
    "s.loc[\"2016-01-02\":\"2016-01-04\"]"
   ]
  },
  {
   "cell_type": "code",
   "execution_count": 21,
   "id": "516ecaeb-0f21-462f-b2f1-c4399ef23aa4",
   "metadata": {},
   "outputs": [
    {
     "data": {
      "text/plain": [
       "2016-01-01     True\n",
       "2016-01-02     True\n",
       "2016-01-03    False\n",
       "2016-01-04    False\n",
       "2016-01-05    False\n",
       "Freq: D, Name: Toys Series, dtype: bool"
      ]
     },
     "execution_count": 21,
     "metadata": {},
     "output_type": "execute_result"
    }
   ],
   "source": [
    "s < 3.0"
   ]
  },
  {
   "cell_type": "code",
   "execution_count": 22,
   "id": "fd7739df-fb7f-428b-b8c0-aa89ba91f9c7",
   "metadata": {},
   "outputs": [
    {
     "data": {
      "text/plain": [
       "2016-01-01    1.0\n",
       "2016-01-02    2.0\n",
       "Freq: D, Name: Toys Series, dtype: float64"
      ]
     },
     "execution_count": 22,
     "metadata": {},
     "output_type": "execute_result"
    }
   ],
   "source": [
    "s.loc[s < 3]"
   ]
  },
  {
   "cell_type": "code",
   "execution_count": 23,
   "id": "a6acf090-6669-44aa-9f74-32fe5ca247e9",
   "metadata": {},
   "outputs": [
    {
     "data": {
      "text/plain": [
       "2016-01-02    2.0\n",
       "Freq: D, Name: Toys Series, dtype: float64"
      ]
     },
     "execution_count": 23,
     "metadata": {},
     "output_type": "execute_result"
    }
   ],
   "source": [
    "s.loc[(s < 3) & (s > 1)]"
   ]
  },
  {
   "cell_type": "code",
   "execution_count": 24,
   "id": "ed417b3d-875b-4d15-964a-ea9131c06fc5",
   "metadata": {},
   "outputs": [],
   "source": [
    "symbol = \"CMG\"\n",
    "start = \"2012-01-01\"\n",
    "end = \"2016-01-01\"\n",
    "prices = obb.equity.price.historical(\n",
    "    symbol, \n",
    "    start_date=start, \n",
    "    end_date=end, \n",
    "    provider=\"yfinance\"\n",
    "). close"
   ]
  },
  {
   "cell_type": "code",
   "execution_count": 25,
   "id": "b2c3f577-5b84-49ee-ad22-dfea7f971c82",
   "metadata": {},
   "outputs": [
    {
     "data": {
      "text/plain": [
       "Index([2012-01-03, 2012-01-04, 2012-01-05, 2012-01-06, 2012-01-09, 2012-01-10,\n",
       "       2012-01-11, 2012-01-12, 2012-01-13, 2012-01-17,\n",
       "       ...\n",
       "       2015-12-17, 2015-12-18, 2015-12-21, 2015-12-22, 2015-12-23, 2015-12-24,\n",
       "       2015-12-28, 2015-12-29, 2015-12-30, 2015-12-31],\n",
       "      dtype='object', name='date', length=1006)"
      ]
     },
     "execution_count": 25,
     "metadata": {},
     "output_type": "execute_result"
    }
   ],
   "source": [
    "prices.index"
   ]
  },
  {
   "cell_type": "code",
   "execution_count": 26,
   "id": "d37ee44b-45e6-476e-819c-2e7da895af5c",
   "metadata": {},
   "outputs": [],
   "source": [
    "prices.index = pd.to_datetime(prices.index)"
   ]
  },
  {
   "cell_type": "code",
   "execution_count": 27,
   "id": "505c565e-d19b-43f2-bd61-b8e7814c0df9",
   "metadata": {},
   "outputs": [
    {
     "name": "stdout",
     "output_type": "stream",
     "text": [
      "\n",
      " <class 'pandas.core.series.Series'>\n"
     ]
    },
    {
     "data": {
      "text/plain": [
       "date\n",
       "2015-12-24    9.9020\n",
       "2015-12-28    9.8704\n",
       "2015-12-29    9.7988\n",
       "2015-12-30    9.7158\n",
       "2015-12-31    9.5970\n",
       "Name: close, dtype: float64"
      ]
     },
     "execution_count": 27,
     "metadata": {},
     "output_type": "execute_result"
    }
   ],
   "source": [
    "print(\"\\n\", type (prices))\n",
    "prices.tail(5)"
   ]
  },
  {
   "cell_type": "code",
   "execution_count": 28,
   "id": "e9f79f6b-a3c0-422f-b7a9-332d321f459c",
   "metadata": {},
   "outputs": [
    {
     "name": "stdout",
     "output_type": "stream",
     "text": [
      "DatetimeIndex(['2012-01-03', '2012-01-04', '2012-01-05', '2012-01-06',\n",
      "               '2012-01-09', '2012-01-10', '2012-01-11', '2012-01-12',\n",
      "               '2012-01-13', '2012-01-17',\n",
      "               ...\n",
      "               '2015-12-17', '2015-12-18', '2015-12-21', '2015-12-22',\n",
      "               '2015-12-23', '2015-12-24', '2015-12-28', '2015-12-29',\n",
      "               '2015-12-30', '2015-12-31'],\n",
      "              dtype='datetime64[ns]', name='date', length=1006, freq=None)\n"
     ]
    }
   ],
   "source": [
    "print(prices.index)"
   ]
  },
  {
   "cell_type": "code",
   "execution_count": 29,
   "id": "ab6aaafc-f787-412a-a3c6-15e9420cf87a",
   "metadata": {},
   "outputs": [
    {
     "data": {
      "text/plain": [
       "date\n",
       "2012-01-03 00:00:00-05:00    6.8254\n",
       "2012-01-04 00:00:00-05:00    6.9750\n",
       "2012-01-05 00:00:00-05:00    7.0096\n",
       "2012-01-06 00:00:00-05:00    6.9790\n",
       "2012-01-09 00:00:00-05:00    6.7948\n",
       "2012-01-10 00:00:00-05:00    6.8224\n",
       "2012-01-11 00:00:00-05:00    6.9520\n",
       "2012-01-12 00:00:00-05:00    6.9524\n",
       "2012-01-13 00:00:00-05:00    7.0924\n",
       "2012-01-17 00:00:00-05:00    7.0676\n",
       "Name: close, dtype: float64"
      ]
     },
     "execution_count": 29,
     "metadata": {},
     "output_type": "execute_result"
    }
   ],
   "source": [
    "eastern_prices = prices.tz_localize(\"US/Eastern\")\n",
    "eastern_prices.head(10)"
   ]
  },
  {
   "cell_type": "code",
   "execution_count": 30,
   "id": "784653de-4502-428a-8610-dcc958c56f94",
   "metadata": {},
   "outputs": [
    {
     "name": "stdout",
     "output_type": "stream",
     "text": [
      "DatetimeIndex(['2012-01-01 00:00:00-05:00', '2012-01-02 00:00:00-05:00',\n",
      "               '2012-01-03 00:00:00-05:00', '2012-01-04 00:00:00-05:00',\n",
      "               '2012-01-05 00:00:00-05:00', '2012-01-06 00:00:00-05:00',\n",
      "               '2012-01-07 00:00:00-05:00', '2012-01-08 00:00:00-05:00',\n",
      "               '2012-01-09 00:00:00-05:00', '2012-01-10 00:00:00-05:00',\n",
      "               ...\n",
      "               '2015-12-23 00:00:00-05:00', '2015-12-24 00:00:00-05:00',\n",
      "               '2015-12-25 00:00:00-05:00', '2015-12-26 00:00:00-05:00',\n",
      "               '2015-12-27 00:00:00-05:00', '2015-12-28 00:00:00-05:00',\n",
      "               '2015-12-29 00:00:00-05:00', '2015-12-30 00:00:00-05:00',\n",
      "               '2015-12-31 00:00:00-05:00', '2016-01-01 00:00:00-05:00'],\n",
      "              dtype='datetime64[ns, US/Eastern]', length=1462, freq='D')\n"
     ]
    }
   ],
   "source": [
    "calendar_dates = pd.date_range (start=start, end=end, freq=\"D\", tz=\"US/Eastern\")\n",
    "print (calendar_dates)"
   ]
  },
  {
   "cell_type": "code",
   "execution_count": 31,
   "id": "f5e93e26-5a61-4c25-b2a4-64a235f59b1c",
   "metadata": {},
   "outputs": [
    {
     "data": {
      "text/plain": [
       "2012-01-01 00:00:00-05:00    6.8254\n",
       "2012-01-02 00:00:00-05:00    6.8254\n",
       "2012-01-03 00:00:00-05:00    6.8254\n",
       "2012-01-04 00:00:00-05:00    6.9750\n",
       "2012-01-05 00:00:00-05:00    7.0096\n",
       "2012-01-06 00:00:00-05:00    6.9790\n",
       "2012-01-07 00:00:00-05:00    6.7948\n",
       "2012-01-08 00:00:00-05:00    6.7948\n",
       "2012-01-09 00:00:00-05:00    6.7948\n",
       "2012-01-10 00:00:00-05:00    6.8224\n",
       "2012-01-11 00:00:00-05:00    6.9520\n",
       "2012-01-12 00:00:00-05:00    6.9524\n",
       "2012-01-13 00:00:00-05:00    7.0924\n",
       "2012-01-14 00:00:00-05:00    7.0676\n",
       "2012-01-15 00:00:00-05:00    7.0676\n",
       "Freq: D, Name: close, dtype: float64"
      ]
     },
     "execution_count": 31,
     "metadata": {},
     "output_type": "execute_result"
    }
   ],
   "source": [
    "calendar_prices = eastern_prices.reindex(calendar_dates, method=\"bfill\")\n",
    "calendar_prices.head(15)"
   ]
  },
  {
   "cell_type": "code",
   "execution_count": 32,
   "id": "e602fb46-f097-40da-82a5-24cc001e8220",
   "metadata": {},
   "outputs": [
    {
     "data": {
      "text/plain": [
       "2012-01-01 00:00:00-05:00       NaN\n",
       "2012-01-02 00:00:00-05:00       NaN\n",
       "2012-01-03 00:00:00-05:00    6.8254\n",
       "2012-01-04 00:00:00-05:00    6.9750\n",
       "2012-01-05 00:00:00-05:00    7.0096\n",
       "2012-01-06 00:00:00-05:00    6.9790\n",
       "2012-01-07 00:00:00-05:00       NaN\n",
       "2012-01-08 00:00:00-05:00       NaN\n",
       "2012-01-09 00:00:00-05:00    6.7948\n",
       "2012-01-10 00:00:00-05:00    6.8224\n",
       "2012-01-11 00:00:00-05:00    6.9520\n",
       "2012-01-12 00:00:00-05:00    6.9524\n",
       "2012-01-13 00:00:00-05:00    7.0924\n",
       "2012-01-14 00:00:00-05:00       NaN\n",
       "2012-01-15 00:00:00-05:00       NaN\n",
       "Freq: D, Name: close, dtype: float64"
      ]
     },
     "execution_count": 32,
     "metadata": {},
     "output_type": "execute_result"
    }
   ],
   "source": [
    "calendar_prices = eastern_prices.reindex (calendar_dates)\n",
    "calendar_prices.head (15)"
   ]
  },
  {
   "cell_type": "code",
   "execution_count": 33,
   "id": "f4962ea9-7250-40ed-9956-fcd923e9c18c",
   "metadata": {},
   "outputs": [
    {
     "data": {
      "text/plain": [
       "2012-01-01 00:00:00-05:00    10.032733\n",
       "2012-01-02 00:00:00-05:00    10.032733\n",
       "2012-01-03 00:00:00-05:00     6.825400\n",
       "2012-01-04 00:00:00-05:00     6.975000\n",
       "2012-01-05 00:00:00-05:00     7.009600\n",
       "2012-01-06 00:00:00-05:00     6.979000\n",
       "2012-01-07 00:00:00-05:00    10.032733\n",
       "2012-01-08 00:00:00-05:00    10.032733\n",
       "2012-01-09 00:00:00-05:00     6.794800\n",
       "2012-01-10 00:00:00-05:00     6.822400\n",
       "Freq: D, Name: close, dtype: float64"
      ]
     },
     "execution_count": 33,
     "metadata": {},
     "output_type": "execute_result"
    }
   ],
   "source": [
    "meanfilled_prices = calendar_prices.fillna(calendar_prices. mean ())\n",
    "meanfilled_prices.head(10)"
   ]
  },
  {
   "cell_type": "code",
   "execution_count": 34,
   "id": "5d47fd7a-f26d-4946-b336-0ecd6902c4d5",
   "metadata": {},
   "outputs": [
    {
     "data": {
      "text/plain": [
       "2012-01-01 00:00:00-05:00    6.8254\n",
       "2012-01-02 00:00:00-05:00    6.8254\n",
       "2012-01-03 00:00:00-05:00    6.8254\n",
       "2012-01-04 00:00:00-05:00    6.9750\n",
       "2012-01-05 00:00:00-05:00    7.0096\n",
       "2012-01-06 00:00:00-05:00    6.9790\n",
       "2012-01-07 00:00:00-05:00    6.7948\n",
       "2012-01-08 00:00:00-05:00    6.7948\n",
       "2012-01-09 00:00:00-05:00    6.7948\n",
       "2012-01-10 00:00:00-05:00    6.8224\n",
       "Freq: D, Name: close, dtype: float64"
      ]
     },
     "execution_count": 34,
     "metadata": {},
     "output_type": "execute_result"
    }
   ],
   "source": [
    "bfilled_prices = calendar_prices.bfill()\n",
    "bfilled_prices.head(10)"
   ]
  },
  {
   "cell_type": "code",
   "execution_count": 35,
   "id": "4340ece8-f2c2-403f-b4e2-56647ac60e84",
   "metadata": {},
   "outputs": [
    {
     "data": {
      "text/plain": [
       "2012-01-03 00:00:00-05:00    6.8254\n",
       "2012-01-04 00:00:00-05:00    6.9750\n",
       "2012-01-05 00:00:00-05:00    7.0096\n",
       "2012-01-06 00:00:00-05:00    6.9790\n",
       "2012-01-09 00:00:00-05:00    6.7948\n",
       "2012-01-10 00:00:00-05:00    6.8224\n",
       "2012-01-11 00:00:00-05:00    6.9520\n",
       "2012-01-12 00:00:00-05:00    6.9524\n",
       "2012-01-13 00:00:00-05:00    7.0924\n",
       "2012-01-17 00:00:00-05:00    7.0676\n",
       "Name: close, dtype: float64"
      ]
     },
     "execution_count": 35,
     "metadata": {},
     "output_type": "execute_result"
    }
   ],
   "source": [
    "dropped_prices = calendar_prices.dropna()\n",
    "dropped_prices.head(10)"
   ]
  },
  {
   "cell_type": "code",
   "execution_count": 36,
   "id": "82b15f2c-bf21-4e5a-91fa-3e213ff17742",
   "metadata": {},
   "outputs": [
    {
     "data": {
      "text/plain": [
       "Text(0.5, 0, 'Date')"
      ]
     },
     "execution_count": 36,
     "metadata": {},
     "output_type": "execute_result"
    },
    {
     "data": {
      "image/png": "[encoded data removed]",
      "text/plain": [
       "<Figure size 640x480 with 1 Axes>"
      ]
     },
     "metadata": {},
     "output_type": "display_data"
    }
   ],
   "source": [
    "prices.plot ()\n",
    "plt.title(symbol + \" Price\")\n",
    "plt.ylabel(\"Price\") \n",
    "plt.xlabel(\"Date\")"
   ]
  },
  {
   "cell_type": "code",
   "execution_count": 37,
   "id": "a356b304-a49b-4150-a2de-2bf5d2a578db",
   "metadata": {},
   "outputs": [
    {
     "name": "stdout",
     "output_type": "stream",
     "text": [
      "Mean:  10.032733014753278\n",
      "Standard deviation:  2.933774744140719\n"
     ]
    }
   ],
   "source": [
    "print (\"Mean: \", prices. mean ())\n",
    "print(\"Standard deviation: \", prices.std())"
   ]
  },
  {
   "cell_type": "code",
   "execution_count": 38,
   "id": "c7d25b0d-6dd1-42f9-af58-88a48954b66c",
   "metadata": {},
   "outputs": [
    {
     "data": {
      "text/plain": [
       "count    1005.000000\n",
       "mean        0.000540\n",
       "std         0.019868\n",
       "min        -0.215124\n",
       "25%        -0.007254\n",
       "50%         0.000236\n",
       "75%         0.008278\n",
       "max         0.160954\n",
       "Name: close, dtype: float64"
      ]
     },
     "execution_count": 38,
     "metadata": {},
     "output_type": "execute_result"
    }
   ],
   "source": [
    "prices.pct_change().describe()"
   ]
  },
  {
   "cell_type": "code",
   "execution_count": 39,
   "id": "8a3ec2d3-d190-47ef-b2db-6bd375f3d9de",
   "metadata": {},
   "outputs": [
    {
     "name": "stdout",
     "output_type": "stream",
     "text": [
      "Summary Statistics\n",
      "count    1006.000000\n",
      "mean       10.032733\n",
      "std         2.933775\n",
      "min         4.724800\n",
      "25%         7.431100\n",
      "50%        10.425400\n",
      "75%        12.936700\n",
      "max        15.155400\n",
      "Name: close, dtype: float64\n"
     ]
    }
   ],
   "source": [
    "print (\"Summary Statistics\")\n",
    "print (prices.describe ())"
   ]
  },
  {
   "cell_type": "code",
   "execution_count": 40,
   "id": "8b682b90-dd92-40db-a3f3-40b171c02c08",
   "metadata": {},
   "outputs": [
    {
     "data": {
      "text/plain": [
       "date\n",
       "2012-01-03    3.6508\n",
       "2012-01-04    3.9500\n",
       "2012-01-05    4.0192\n",
       "2012-01-06    3.9580\n",
       "2012-01-09    3.5896\n",
       "Name: close, dtype: float64"
      ]
     },
     "execution_count": 40,
     "metadata": {},
     "output_type": "execute_result"
    }
   ],
   "source": [
    "modified_prices = prices * 2 - 10\n",
    "modified_prices. head (5)"
   ]
  },
  {
   "cell_type": "code",
   "execution_count": 41,
   "id": "a1dbdf5f-bbfe-46f3-98a2-57c5370314e2",
   "metadata": {},
   "outputs": [
    {
     "data": {
      "text/plain": [
       "date\n",
       "2012-01-03     9.656370\n",
       "2012-01-04    69.685349\n",
       "2012-01-05    65.053270\n",
       "2012-01-06    31.311001\n",
       "2012-01-09    76.189827\n",
       "dtype: float64"
      ]
     },
     "execution_count": 41,
     "metadata": {},
     "output_type": "execute_result"
    }
   ],
   "source": [
    "noisy_prices = (\n",
    "prices + 5 * pd.Series (np. random. normal(0, 5, len(prices)), index=prices.index) + 20\n",
    ")\n",
    "noisy_prices. head (5)"
   ]
  },
  {
   "cell_type": "code",
   "execution_count": 42,
   "id": "0a690e7b-8822-4d33-b97c-ba4352e7298d",
   "metadata": {},
   "outputs": [
    {
     "data": {
      "text/plain": [
       "0      -2.737301\n",
       "1       0.124617\n",
       "2      -2.017339\n",
       "3       0.443452\n",
       "4       0.072303\n",
       "          ...   \n",
       "1001   -0.182735\n",
       "1002    0.150668\n",
       "1003   -1.334780\n",
       "1004    1.653276\n",
       "1005   -0.207301\n",
       "Length: 1006, dtype: float64"
      ]
     },
     "execution_count": 42,
     "metadata": {},
     "output_type": "execute_result"
    }
   ],
   "source": [
    "pd.Series(np. random. normal(0, 1, len(prices)))"
   ]
  },
  {
   "cell_type": "code",
   "execution_count": 43,
   "id": "69511c8a-8d02-45d9-9058-50592a3e2661",
   "metadata": {},
   "outputs": [
    {
     "data": {
      "text/plain": [
       "2012-01-03 00:00:00   NaN\n",
       "2012-01-04 00:00:00   NaN\n",
       "2012-01-05 00:00:00   NaN\n",
       "2012-01-06 00:00:00   NaN\n",
       "2012-01-09 00:00:00   NaN\n",
       "dtype: float64"
      ]
     },
     "execution_count": 43,
     "metadata": {},
     "output_type": "execute_result"
    }
   ],
   "source": [
    "empty_series = prices + pd.Series (np. random.normal(0, 1, len(prices)))\n",
    "empty_series.head (5)"
   ]
  },
  {
   "cell_type": "code",
   "execution_count": 44,
   "id": "2f60e343-5fe0-456f-8512-76c01b470e6f",
   "metadata": {},
   "outputs": [],
   "source": [
    "add_returns = prices.diff()[1:]\n",
    "mult_returns = prices.pct_change()[1:]"
   ]
  },
  {
   "cell_type": "code",
   "execution_count": 45,
   "id": "63e4a074-f33e-496f-89a5-7e96af2c3c4e",
   "metadata": {},
   "outputs": [
    {
     "data": {
      "text/plain": [
       "<Axes: title={'center': 'Multiplicative returns of CMG'}, xlabel='date', ylabel='Percent Returns'>"
      ]
     },
     "execution_count": 45,
     "metadata": {},
     "output_type": "execute_result"
    },
    {
     "data": {
      "image/png": "[encoded data removed]",
      "text/plain": [
       "<Figure size 640x480 with 1 Axes>"
      ]
     },
     "metadata": {},
     "output_type": "display_data"
    }
   ],
   "source": [
    "plt. title(\"Multiplicative returns of \" + symbol)\n",
    "plt.xlabel(\"Date\")\n",
    "plt.ylabel(\"Percent Returns\")\n",
    "mult_returns.plot ()"
   ]
  },
  {
   "cell_type": "code",
   "execution_count": 46,
   "id": "cd2f2559-3657-498e-a7db-c15cd8ac716a",
   "metadata": {},
   "outputs": [],
   "source": [
    "rolling_mean = prices. rolling (30) .mean ()\n",
    "rolling_mean.name = \"30-day rolling mean\""
   ]
  },
  {
   "cell_type": "code",
   "execution_count": 47,
   "id": "d436362d-fa30-4927-8844-d425207585ca",
   "metadata": {},
   "outputs": [
    {
     "data": {
      "text/plain": [
       "<matplotlib.legend.Legend at 0x7fac4848f340>"
      ]
     },
     "execution_count": 47,
     "metadata": {},
     "output_type": "execute_result"
    },
    {
     "data": {
      "image/png": "[encoded data removed]",
      "text/plain": [
       "<Figure size 640x480 with 1 Axes>"
      ]
     },
     "metadata": {},
     "output_type": "display_data"
    }
   ],
   "source": [
    "prices.plot ()\n",
    "rolling_mean.plot ()\n",
    "plt.title(symbol + \"Price\")\n",
    "plt.xlabel(\"Date\") \n",
    "plt.ylabel(\"Price\")\n",
    "plt.legend ()"
   ]
  },
  {
   "cell_type": "code",
   "execution_count": 48,
   "id": "8784fc25-d262-43aa-86b6-e90d843419bb",
   "metadata": {},
   "outputs": [],
   "source": [
    "rolling_std = prices.pct_change (). rolling(30) .std() * np. sqrt (252)\n",
    "rolling_std.name = \"30-day rolling volatility\""
   ]
  },
  {
   "cell_type": "code",
   "execution_count": 49,
   "id": "5ce6f36e-f819-4ab2-aea6-b9ed9fe41788",
   "metadata": {},
   "outputs": [
    {
     "data": {
      "text/plain": [
       "Text(0, 0.5, 'Standard Deviation')"
      ]
     },
     "execution_count": 49,
     "metadata": {},
     "output_type": "execute_result"
    },
    {
     "data": {
      "image/png": "[encoded data removed]",
      "text/plain": [
       "<Figure size 640x480 with 1 Axes>"
      ]
     },
     "metadata": {},
     "output_type": "display_data"
    }
   ],
   "source": [
    "rolling_std.plot ()\n",
    "plt. title (rolling_std. name)\n",
    "plt.xlabel (\"Date\")\n",
    "plt.ylabel(\"Standard Deviation\")"
   ]
  },
  {
   "cell_type": "code",
   "execution_count": 50,
   "id": "a72dabec-b67a-4cd3-b8ca-c12747b66c2b",
   "metadata": {},
   "outputs": [
    {
     "name": "stdout",
     "output_type": "stream",
     "text": [
      "0.0002359792100385949\n"
     ]
    }
   ],
   "source": [
    "print(np.median(mult_returns))"
   ]
  },
  {
   "cell_type": "code",
   "execution_count": 51,
   "id": "a9ffa3fa-3134-48b7-b000-54fcb46e25f0",
   "metadata": {},
   "outputs": [
    {
     "name": "stdout",
     "output_type": "stream",
     "text": [
      "0.0002359792100385949\n"
     ]
    }
   ],
   "source": [
    "print(mult_returns.median ())"
   ]
  },
  {
   "cell_type": "code",
   "execution_count": 52,
   "id": "c8966018-0ca3-4521-9234-baa2aad581a1",
   "metadata": {},
   "outputs": [
    {
     "name": "stdout",
     "output_type": "stream",
     "text": [
      "{'a': [1, 2, 3, 4, 5], 'D': ('L', 'K', ']', 'M', 'Z'), 'c': array([ 0.34237324, -0.05120319, -0.68050246, -1.60407307,  0.43953944])}\n"
     ]
    }
   ],
   "source": [
    "dict_data = {\n",
    "\"a\": [1, 2, 3, 4, 5],\n",
    "\"D\": (\"L\", \"K\", \"]\",\n",
    "\"M\", \"Z\"),\n",
    "\"c\": np. random. normal(0, 1, 5),\n",
    "}\n",
    "print(dict_data)"
   ]
  },
  {
   "cell_type": "code",
   "execution_count": 53,
   "id": "bbf77242-3b40-4cbf-8b4b-71d96d5ac977",
   "metadata": {},
   "outputs": [
    {
     "data": {
      "text/html": [
       "<div>\n",
       "<style scoped>\n",
       "    .dataframe tbody tr th:only-of-type {\n",
       "        vertical-align: middle;\n",
       "    }\n",
       "\n",
       "    .dataframe tbody tr th {\n",
       "        vertical-align: top;\n",
       "    }\n",
       "\n",
       "    .dataframe thead th {\n",
       "        text-align: right;\n",
       "    }\n",
       "</style>\n",
       "<table border=\"1\" class=\"dataframe\">\n",
       "  <thead>\n",
       "    <tr style=\"text-align: right;\">\n",
       "      <th></th>\n",
       "      <th>a</th>\n",
       "      <th>D</th>\n",
       "      <th>c</th>\n",
       "    </tr>\n",
       "  </thead>\n",
       "  <tbody>\n",
       "    <tr>\n",
       "      <th>2016-01-01</th>\n",
       "      <td>1</td>\n",
       "      <td>L</td>\n",
       "      <td>0.342373</td>\n",
       "    </tr>\n",
       "    <tr>\n",
       "      <th>2016-01-02</th>\n",
       "      <td>2</td>\n",
       "      <td>K</td>\n",
       "      <td>-0.051203</td>\n",
       "    </tr>\n",
       "    <tr>\n",
       "      <th>2016-01-03</th>\n",
       "      <td>3</td>\n",
       "      <td>]</td>\n",
       "      <td>-0.680502</td>\n",
       "    </tr>\n",
       "    <tr>\n",
       "      <th>2016-01-04</th>\n",
       "      <td>4</td>\n",
       "      <td>M</td>\n",
       "      <td>-1.604073</td>\n",
       "    </tr>\n",
       "    <tr>\n",
       "      <th>2016-01-05</th>\n",
       "      <td>5</td>\n",
       "      <td>Z</td>\n",
       "      <td>0.439539</td>\n",
       "    </tr>\n",
       "  </tbody>\n",
       "</table>\n",
       "</div>"
      ],
      "text/plain": [
       "            a  D         c\n",
       "2016-01-01  1  L  0.342373\n",
       "2016-01-02  2  K -0.051203\n",
       "2016-01-03  3  ] -0.680502\n",
       "2016-01-04  4  M -1.604073\n",
       "2016-01-05  5  Z  0.439539"
      ]
     },
     "execution_count": 53,
     "metadata": {},
     "output_type": "execute_result"
    }
   ],
   "source": [
    "frame_data = pd.DataFrame(dict_data, index=pd.date_range (\"2016-01-01\", periods=5))\n",
    "frame_data"
   ]
  },
  {
   "cell_type": "code",
   "execution_count": 54,
   "id": "a57fe613-af74-46fb-bd77-0477a9083eaa",
   "metadata": {},
   "outputs": [
    {
     "data": {
      "text/html": [
       "<div>\n",
       "<style scoped>\n",
       "    .dataframe tbody tr th:only-of-type {\n",
       "        vertical-align: middle;\n",
       "    }\n",
       "\n",
       "    .dataframe tbody tr th {\n",
       "        vertical-align: top;\n",
       "    }\n",
       "\n",
       "    .dataframe thead th {\n",
       "        text-align: right;\n",
       "    }\n",
       "</style>\n",
       "<table border=\"1\" class=\"dataframe\">\n",
       "  <thead>\n",
       "    <tr style=\"text-align: right;\">\n",
       "      <th></th>\n",
       "      <th>Evens</th>\n",
       "      <th>Odds</th>\n",
       "    </tr>\n",
       "  </thead>\n",
       "  <tbody>\n",
       "    <tr>\n",
       "      <th>0</th>\n",
       "      <td>2</td>\n",
       "      <td>1</td>\n",
       "    </tr>\n",
       "    <tr>\n",
       "      <th>1</th>\n",
       "      <td>4</td>\n",
       "      <td>3</td>\n",
       "    </tr>\n",
       "    <tr>\n",
       "      <th>2</th>\n",
       "      <td>6</td>\n",
       "      <td>5</td>\n",
       "    </tr>\n",
       "    <tr>\n",
       "      <th>3</th>\n",
       "      <td>8</td>\n",
       "      <td>7</td>\n",
       "    </tr>\n",
       "    <tr>\n",
       "      <th>4</th>\n",
       "      <td>10</td>\n",
       "      <td>9</td>\n",
       "    </tr>\n",
       "  </tbody>\n",
       "</table>\n",
       "</div>"
      ],
      "text/plain": [
       "   Evens  Odds\n",
       "0      2     1\n",
       "1      4     3\n",
       "2      6     5\n",
       "3      8     7\n",
       "4     10     9"
      ]
     },
     "execution_count": 54,
     "metadata": {},
     "output_type": "execute_result"
    }
   ],
   "source": [
    "s_1 = pd.Series( [2, 4, 6, 8, 10], name=\"Evens\")\n",
    "s_2 = pd.Series([1, 3, 5, 7, 9], name=\"Odds\")\n",
    "numbers = pd. concat([s_1, s_2], axis=1)\n",
    "numbers"
   ]
  },
  {
   "cell_type": "code",
   "execution_count": 55,
   "id": "1a85c015-8f92-464f-9ac9-281aa8f8ad30",
   "metadata": {},
   "outputs": [
    {
     "name": "stdout",
     "output_type": "stream",
     "text": [
      "Index(['Evens', 'Odds'], dtype='object')\n"
     ]
    }
   ],
   "source": [
    "print(numbers.columns)"
   ]
  },
  {
   "cell_type": "code",
   "execution_count": 56,
   "id": "02d6417f-758e-4786-a95c-497886598be0",
   "metadata": {},
   "outputs": [
    {
     "name": "stdout",
     "output_type": "stream",
     "text": [
      "   Shmevens  Shmodds\n",
      "0         2        1\n",
      "1         4        3\n",
      "2         6        5\n",
      "3         8        7\n",
      "4        10        9\n"
     ]
    }
   ],
   "source": [
    "numbers.columns = [\"Shmevens\", \"Shmodds\"]\n",
    "print(numbers)"
   ]
  },
  {
   "cell_type": "code",
   "execution_count": 57,
   "id": "13df6511-5f20-453a-81c1-9f565f70d2c9",
   "metadata": {},
   "outputs": [
    {
     "data": {
      "text/plain": [
       "RangeIndex(start=0, stop=5, step=1)"
      ]
     },
     "execution_count": 57,
     "metadata": {},
     "output_type": "execute_result"
    }
   ],
   "source": [
    "numbers.index"
   ]
  },
  {
   "cell_type": "code",
   "execution_count": 58,
   "id": "25381eec-ee95-4793-9b9c-5170ad25442f",
   "metadata": {},
   "outputs": [
    {
     "name": "stdout",
     "output_type": "stream",
     "text": [
      "            Shmevens  Shmodds\n",
      "2016-01-01         2        1\n",
      "2016-01-02         4        3\n",
      "2016-01-03         6        5\n",
      "2016-01-04         8        7\n",
      "2016-01-05        10        9\n"
     ]
    }
   ],
   "source": [
    "numbers. index = pd.date_range (\"2016-01-01\", periods=len (numbers))\n",
    "print (numbers)"
   ]
  },
  {
   "cell_type": "code",
   "execution_count": 59,
   "id": "8452112c-27de-476b-bcfb-e6bc038dae30",
   "metadata": {},
   "outputs": [
    {
     "data": {
      "text/plain": [
       "array([[ 2,  1],\n",
       "       [ 4,  3],\n",
       "       [ 6,  5],\n",
       "       [ 8,  7],\n",
       "       [10,  9]])"
      ]
     },
     "execution_count": 59,
     "metadata": {},
     "output_type": "execute_result"
    }
   ],
   "source": [
    "numbers.values"
   ]
  },
  {
   "cell_type": "code",
   "execution_count": 60,
   "id": "24a70369-d725-4c0d-b297-027913d4fd4e",
   "metadata": {},
   "outputs": [
    {
     "data": {
      "text/plain": [
       "numpy.ndarray"
      ]
     },
     "execution_count": 60,
     "metadata": {},
     "output_type": "execute_result"
    }
   ],
   "source": [
    "type (numbers.values)"
   ]
  },
  {
   "cell_type": "code",
   "execution_count": 61,
   "id": "c10f8ad9-ba86-432e-b38e-80a2473b7775",
   "metadata": {},
   "outputs": [],
   "source": [
    "symbols = [\"CMG\", \"MCD\", \"SHAK\"]\n",
    "start = \"2012-01-01\"\n",
    "end = \"2016-01-01\""
   ]
  },
  {
   "cell_type": "code",
   "execution_count": 62,
   "id": "3dee2f60-c605-4c4e-ae6b-26b1ea746299",
   "metadata": {},
   "outputs": [
    {
     "data": {
      "text/html": [
       "<div>\n",
       "<style scoped>\n",
       "    .dataframe tbody tr th:only-of-type {\n",
       "        vertical-align: middle;\n",
       "    }\n",
       "\n",
       "    .dataframe tbody tr th {\n",
       "        vertical-align: top;\n",
       "    }\n",
       "\n",
       "    .dataframe thead th {\n",
       "        text-align: right;\n",
       "    }\n",
       "</style>\n",
       "<table border=\"1\" class=\"dataframe\">\n",
       "  <thead>\n",
       "    <tr style=\"text-align: right;\">\n",
       "      <th></th>\n",
       "      <th>open</th>\n",
       "      <th>high</th>\n",
       "      <th>low</th>\n",
       "      <th>close</th>\n",
       "      <th>volume</th>\n",
       "      <th>dividend</th>\n",
       "      <th>symbol</th>\n",
       "    </tr>\n",
       "    <tr>\n",
       "      <th>date</th>\n",
       "      <th></th>\n",
       "      <th></th>\n",
       "      <th></th>\n",
       "      <th></th>\n",
       "      <th></th>\n",
       "      <th></th>\n",
       "      <th></th>\n",
       "    </tr>\n",
       "  </thead>\n",
       "  <tbody>\n",
       "    <tr>\n",
       "      <th>2012-01-03</th>\n",
       "      <td>6.874000</td>\n",
       "      <td>7.009800</td>\n",
       "      <td>6.800000</td>\n",
       "      <td>6.825400</td>\n",
       "      <td>36405000.0</td>\n",
       "      <td>0.0</td>\n",
       "      <td>CMG</td>\n",
       "    </tr>\n",
       "    <tr>\n",
       "      <th>2012-01-03</th>\n",
       "      <td>101.330002</td>\n",
       "      <td>101.589996</td>\n",
       "      <td>98.750000</td>\n",
       "      <td>98.839996</td>\n",
       "      <td>8895900.0</td>\n",
       "      <td>0.0</td>\n",
       "      <td>MCD</td>\n",
       "    </tr>\n",
       "    <tr>\n",
       "      <th>2012-01-04</th>\n",
       "      <td>6.920000</td>\n",
       "      <td>6.999600</td>\n",
       "      <td>6.900200</td>\n",
       "      <td>6.975000</td>\n",
       "      <td>37155000.0</td>\n",
       "      <td>0.0</td>\n",
       "      <td>CMG</td>\n",
       "    </tr>\n",
       "    <tr>\n",
       "      <th>2012-01-04</th>\n",
       "      <td>99.110001</td>\n",
       "      <td>100.300003</td>\n",
       "      <td>98.760002</td>\n",
       "      <td>99.389999</td>\n",
       "      <td>6754700.0</td>\n",
       "      <td>0.0</td>\n",
       "      <td>MCD</td>\n",
       "    </tr>\n",
       "    <tr>\n",
       "      <th>2012-01-05</th>\n",
       "      <td>6.937600</td>\n",
       "      <td>7.039600</td>\n",
       "      <td>6.851400</td>\n",
       "      <td>7.009600</td>\n",
       "      <td>33615000.0</td>\n",
       "      <td>0.0</td>\n",
       "      <td>CMG</td>\n",
       "    </tr>\n",
       "    <tr>\n",
       "      <th>...</th>\n",
       "      <td>...</td>\n",
       "      <td>...</td>\n",
       "      <td>...</td>\n",
       "      <td>...</td>\n",
       "      <td>...</td>\n",
       "      <td>...</td>\n",
       "      <td>...</td>\n",
       "    </tr>\n",
       "    <tr>\n",
       "      <th>2015-12-30</th>\n",
       "      <td>119.639999</td>\n",
       "      <td>119.989998</td>\n",
       "      <td>119.230003</td>\n",
       "      <td>119.430000</td>\n",
       "      <td>2400800.0</td>\n",
       "      <td>0.0</td>\n",
       "      <td>MCD</td>\n",
       "    </tr>\n",
       "    <tr>\n",
       "      <th>2015-12-30</th>\n",
       "      <td>40.540001</td>\n",
       "      <td>40.980000</td>\n",
       "      <td>39.880001</td>\n",
       "      <td>39.959999</td>\n",
       "      <td>396400.0</td>\n",
       "      <td>0.0</td>\n",
       "      <td>SHAK</td>\n",
       "    </tr>\n",
       "    <tr>\n",
       "      <th>2015-12-31</th>\n",
       "      <td>9.662200</td>\n",
       "      <td>9.715600</td>\n",
       "      <td>9.559400</td>\n",
       "      <td>9.597000</td>\n",
       "      <td>59830000.0</td>\n",
       "      <td>0.0</td>\n",
       "      <td>CMG</td>\n",
       "    </tr>\n",
       "    <tr>\n",
       "      <th>2015-12-31</th>\n",
       "      <td>118.820000</td>\n",
       "      <td>119.180000</td>\n",
       "      <td>117.940002</td>\n",
       "      <td>118.139999</td>\n",
       "      <td>3723200.0</td>\n",
       "      <td>0.0</td>\n",
       "      <td>MCD</td>\n",
       "    </tr>\n",
       "    <tr>\n",
       "      <th>2015-12-31</th>\n",
       "      <td>39.869999</td>\n",
       "      <td>40.750000</td>\n",
       "      <td>39.549999</td>\n",
       "      <td>39.599998</td>\n",
       "      <td>407800.0</td>\n",
       "      <td>0.0</td>\n",
       "      <td>SHAK</td>\n",
       "    </tr>\n",
       "  </tbody>\n",
       "</table>\n",
       "<p>2245 rows × 7 columns</p>\n",
       "</div>"
      ],
      "text/plain": [
       "                  open        high         low       close      volume  \\\n",
       "date                                                                     \n",
       "2012-01-03    6.874000    7.009800    6.800000    6.825400  36405000.0   \n",
       "2012-01-03  101.330002  101.589996   98.750000   98.839996   8895900.0   \n",
       "2012-01-04    6.920000    6.999600    6.900200    6.975000  37155000.0   \n",
       "2012-01-04   99.110001  100.300003   98.760002   99.389999   6754700.0   \n",
       "2012-01-05    6.937600    7.039600    6.851400    7.009600  33615000.0   \n",
       "...                ...         ...         ...         ...         ...   \n",
       "2015-12-30  119.639999  119.989998  119.230003  119.430000   2400800.0   \n",
       "2015-12-30   40.540001   40.980000   39.880001   39.959999    396400.0   \n",
       "2015-12-31    9.662200    9.715600    9.559400    9.597000  59830000.0   \n",
       "2015-12-31  118.820000  119.180000  117.940002  118.139999   3723200.0   \n",
       "2015-12-31   39.869999   40.750000   39.549999   39.599998    407800.0   \n",
       "\n",
       "            dividend symbol  \n",
       "date                         \n",
       "2012-01-03       0.0    CMG  \n",
       "2012-01-03       0.0    MCD  \n",
       "2012-01-04       0.0    CMG  \n",
       "2012-01-04       0.0    MCD  \n",
       "2012-01-05       0.0    CMG  \n",
       "...              ...    ...  \n",
       "2015-12-30       0.0    MCD  \n",
       "2015-12-30       0.0   SHAK  \n",
       "2015-12-31       0.0    CMG  \n",
       "2015-12-31       0.0    MCD  \n",
       "2015-12-31       0.0   SHAK  \n",
       "\n",
       "[2245 rows x 7 columns]"
      ]
     },
     "execution_count": 62,
     "metadata": {},
     "output_type": "execute_result"
    }
   ],
   "source": [
    "data = obb.equity.price.historical(\n",
    "  symbols, start_date=start, end_date=end, provider=\"yfinance\"\n",
    ")\n",
    "data.index = pd.to_datetime(data.index)\n",
    "data"
   ]
  },
  {
   "cell_type": "code",
   "execution_count": 63,
   "id": "9ab41bb6-c6ee-4a9e-841f-8915a94f1061",
   "metadata": {},
   "outputs": [
    {
     "data": {
      "text/html": [
       "<div>\n",
       "<style scoped>\n",
       "    .dataframe tbody tr th:only-of-type {\n",
       "        vertical-align: middle;\n",
       "    }\n",
       "\n",
       "    .dataframe tbody tr th {\n",
       "        vertical-align: top;\n",
       "    }\n",
       "\n",
       "    .dataframe thead th {\n",
       "        text-align: right;\n",
       "    }\n",
       "</style>\n",
       "<table border=\"1\" class=\"dataframe\">\n",
       "  <thead>\n",
       "    <tr style=\"text-align: right;\">\n",
       "      <th>symbol</th>\n",
       "      <th>CMG</th>\n",
       "      <th>MCD</th>\n",
       "      <th>SHAK</th>\n",
       "    </tr>\n",
       "    <tr>\n",
       "      <th>date</th>\n",
       "      <th></th>\n",
       "      <th></th>\n",
       "      <th></th>\n",
       "    </tr>\n",
       "  </thead>\n",
       "  <tbody>\n",
       "    <tr>\n",
       "      <th>2012-01-03</th>\n",
       "      <td>6.8254</td>\n",
       "      <td>98.839996</td>\n",
       "      <td>NaN</td>\n",
       "    </tr>\n",
       "    <tr>\n",
       "      <th>2012-01-04</th>\n",
       "      <td>6.9750</td>\n",
       "      <td>99.389999</td>\n",
       "      <td>NaN</td>\n",
       "    </tr>\n",
       "    <tr>\n",
       "      <th>2012-01-05</th>\n",
       "      <td>7.0096</td>\n",
       "      <td>99.830002</td>\n",
       "      <td>NaN</td>\n",
       "    </tr>\n",
       "    <tr>\n",
       "      <th>2012-01-06</th>\n",
       "      <td>6.9790</td>\n",
       "      <td>100.599998</td>\n",
       "      <td>NaN</td>\n",
       "    </tr>\n",
       "    <tr>\n",
       "      <th>2012-01-09</th>\n",
       "      <td>6.7948</td>\n",
       "      <td>99.639999</td>\n",
       "      <td>NaN</td>\n",
       "    </tr>\n",
       "    <tr>\n",
       "      <th>...</th>\n",
       "      <td>...</td>\n",
       "      <td>...</td>\n",
       "      <td>...</td>\n",
       "    </tr>\n",
       "    <tr>\n",
       "      <th>2015-12-24</th>\n",
       "      <td>9.9020</td>\n",
       "      <td>118.570000</td>\n",
       "      <td>40.490002</td>\n",
       "    </tr>\n",
       "    <tr>\n",
       "      <th>2015-12-28</th>\n",
       "      <td>9.8704</td>\n",
       "      <td>118.750000</td>\n",
       "      <td>39.849998</td>\n",
       "    </tr>\n",
       "    <tr>\n",
       "      <th>2015-12-29</th>\n",
       "      <td>9.7988</td>\n",
       "      <td>120.070000</td>\n",
       "      <td>40.639999</td>\n",
       "    </tr>\n",
       "    <tr>\n",
       "      <th>2015-12-30</th>\n",
       "      <td>9.7158</td>\n",
       "      <td>119.430000</td>\n",
       "      <td>39.959999</td>\n",
       "    </tr>\n",
       "    <tr>\n",
       "      <th>2015-12-31</th>\n",
       "      <td>9.5970</td>\n",
       "      <td>118.139999</td>\n",
       "      <td>39.599998</td>\n",
       "    </tr>\n",
       "  </tbody>\n",
       "</table>\n",
       "<p>1006 rows × 3 columns</p>\n",
       "</div>"
      ],
      "text/plain": [
       "symbol         CMG         MCD       SHAK\n",
       "date                                     \n",
       "2012-01-03  6.8254   98.839996        NaN\n",
       "2012-01-04  6.9750   99.389999        NaN\n",
       "2012-01-05  7.0096   99.830002        NaN\n",
       "2012-01-06  6.9790  100.599998        NaN\n",
       "2012-01-09  6.7948   99.639999        NaN\n",
       "...            ...         ...        ...\n",
       "2015-12-24  9.9020  118.570000  40.490002\n",
       "2015-12-28  9.8704  118.750000  39.849998\n",
       "2015-12-29  9.7988  120.070000  40.639999\n",
       "2015-12-30  9.7158  119.430000  39.959999\n",
       "2015-12-31  9.5970  118.139999  39.599998\n",
       "\n",
       "[1006 rows x 3 columns]"
      ]
     },
     "execution_count": 63,
     "metadata": {},
     "output_type": "execute_result"
    }
   ],
   "source": [
    "prices = data.pivot(columns=\"symbol\", values=\"close\")\n",
    "prices"
   ]
  },
  {
   "cell_type": "code",
   "execution_count": 64,
   "id": "0a4d7b90-f9f5-4fb8-9e2f-4f919321d64c",
   "metadata": {},
   "outputs": [
    {
     "data": {
      "text/plain": [
       "date\n",
       "2012-01-03    6.8254\n",
       "2012-01-04    6.9750\n",
       "2012-01-05    7.0096\n",
       "2012-01-06    6.9790\n",
       "2012-01-09    6.7948\n",
       "               ...  \n",
       "2015-12-24    9.9020\n",
       "2015-12-28    9.8704\n",
       "2015-12-29    9.7988\n",
       "2015-12-30    9.7158\n",
       "2015-12-31    9.5970\n",
       "Name: CMG, Length: 1006, dtype: float64"
      ]
     },
     "execution_count": 64,
     "metadata": {},
     "output_type": "execute_result"
    }
   ],
   "source": [
    "prices.loc[:, \"CMG\"]"
   ]
  },
  {
   "cell_type": "code",
   "execution_count": 65,
   "id": "9a875f51-8ab8-40ef-8316-1f7b68b53309",
   "metadata": {},
   "outputs": [
    {
     "name": "stdout",
     "output_type": "stream",
     "text": [
      "<class 'pandas.core.series.Series'>\n",
      "<class 'pandas.core.series.Series'>\n",
      "<class 'pandas.core.series.Series'>\n"
     ]
    }
   ],
   "source": [
    "print (type (prices [\"CMG\"]))\n",
    "print (type (prices. CMG))\n",
    "print(type(prices. loc [:, \"CMG\"]))"
   ]
  },
  {
   "cell_type": "code",
   "execution_count": 66,
   "id": "ce7d34af-a951-4984-810f-bfbfdf796972",
   "metadata": {},
   "outputs": [
    {
     "data": {
      "text/html": [
       "<div>\n",
       "<style scoped>\n",
       "    .dataframe tbody tr th:only-of-type {\n",
       "        vertical-align: middle;\n",
       "    }\n",
       "\n",
       "    .dataframe tbody tr th {\n",
       "        vertical-align: top;\n",
       "    }\n",
       "\n",
       "    .dataframe thead th {\n",
       "        text-align: right;\n",
       "    }\n",
       "</style>\n",
       "<table border=\"1\" class=\"dataframe\">\n",
       "  <thead>\n",
       "    <tr style=\"text-align: right;\">\n",
       "      <th>symbol</th>\n",
       "      <th>CMG</th>\n",
       "      <th>MCD</th>\n",
       "    </tr>\n",
       "    <tr>\n",
       "      <th>date</th>\n",
       "      <th></th>\n",
       "      <th></th>\n",
       "    </tr>\n",
       "  </thead>\n",
       "  <tbody>\n",
       "    <tr>\n",
       "      <th>2012-01-03</th>\n",
       "      <td>6.8254</td>\n",
       "      <td>98.839996</td>\n",
       "    </tr>\n",
       "    <tr>\n",
       "      <th>2012-01-04</th>\n",
       "      <td>6.9750</td>\n",
       "      <td>99.389999</td>\n",
       "    </tr>\n",
       "    <tr>\n",
       "      <th>2012-01-05</th>\n",
       "      <td>7.0096</td>\n",
       "      <td>99.830002</td>\n",
       "    </tr>\n",
       "    <tr>\n",
       "      <th>2012-01-06</th>\n",
       "      <td>6.9790</td>\n",
       "      <td>100.599998</td>\n",
       "    </tr>\n",
       "    <tr>\n",
       "      <th>2012-01-09</th>\n",
       "      <td>6.7948</td>\n",
       "      <td>99.639999</td>\n",
       "    </tr>\n",
       "    <tr>\n",
       "      <th>...</th>\n",
       "      <td>...</td>\n",
       "      <td>...</td>\n",
       "    </tr>\n",
       "    <tr>\n",
       "      <th>2015-12-24</th>\n",
       "      <td>9.9020</td>\n",
       "      <td>118.570000</td>\n",
       "    </tr>\n",
       "    <tr>\n",
       "      <th>2015-12-28</th>\n",
       "      <td>9.8704</td>\n",
       "      <td>118.750000</td>\n",
       "    </tr>\n",
       "    <tr>\n",
       "      <th>2015-12-29</th>\n",
       "      <td>9.7988</td>\n",
       "      <td>120.070000</td>\n",
       "    </tr>\n",
       "    <tr>\n",
       "      <th>2015-12-30</th>\n",
       "      <td>9.7158</td>\n",
       "      <td>119.430000</td>\n",
       "    </tr>\n",
       "    <tr>\n",
       "      <th>2015-12-31</th>\n",
       "      <td>9.5970</td>\n",
       "      <td>118.139999</td>\n",
       "    </tr>\n",
       "  </tbody>\n",
       "</table>\n",
       "<p>1006 rows × 2 columns</p>\n",
       "</div>"
      ],
      "text/plain": [
       "symbol         CMG         MCD\n",
       "date                          \n",
       "2012-01-03  6.8254   98.839996\n",
       "2012-01-04  6.9750   99.389999\n",
       "2012-01-05  7.0096   99.830002\n",
       "2012-01-06  6.9790  100.599998\n",
       "2012-01-09  6.7948   99.639999\n",
       "...            ...         ...\n",
       "2015-12-24  9.9020  118.570000\n",
       "2015-12-28  9.8704  118.750000\n",
       "2015-12-29  9.7988  120.070000\n",
       "2015-12-30  9.7158  119.430000\n",
       "2015-12-31  9.5970  118.139999\n",
       "\n",
       "[1006 rows x 2 columns]"
      ]
     },
     "execution_count": 66,
     "metadata": {},
     "output_type": "execute_result"
    }
   ],
   "source": [
    "prices.loc[:, [\"CMG\", \"MCD\"]]"
   ]
  },
  {
   "cell_type": "code",
   "execution_count": 67,
   "id": "ca1deb20-ac3f-4696-94c6-cfa73b09109d",
   "metadata": {},
   "outputs": [
    {
     "data": {
      "text/html": [
       "<div>\n",
       "<style scoped>\n",
       "    .dataframe tbody tr th:only-of-type {\n",
       "        vertical-align: middle;\n",
       "    }\n",
       "\n",
       "    .dataframe tbody tr th {\n",
       "        vertical-align: top;\n",
       "    }\n",
       "\n",
       "    .dataframe thead th {\n",
       "        text-align: right;\n",
       "    }\n",
       "</style>\n",
       "<table border=\"1\" class=\"dataframe\">\n",
       "  <thead>\n",
       "    <tr style=\"text-align: right;\">\n",
       "      <th>symbol</th>\n",
       "      <th>CMG</th>\n",
       "      <th>MCD</th>\n",
       "    </tr>\n",
       "    <tr>\n",
       "      <th>date</th>\n",
       "      <th></th>\n",
       "      <th></th>\n",
       "    </tr>\n",
       "  </thead>\n",
       "  <tbody>\n",
       "    <tr>\n",
       "      <th>2015-12-15</th>\n",
       "      <td>11.0972</td>\n",
       "      <td>116.930000</td>\n",
       "    </tr>\n",
       "    <tr>\n",
       "      <th>2015-12-16</th>\n",
       "      <td>11.3566</td>\n",
       "      <td>117.839996</td>\n",
       "    </tr>\n",
       "    <tr>\n",
       "      <th>2015-12-17</th>\n",
       "      <td>11.0978</td>\n",
       "      <td>117.500000</td>\n",
       "    </tr>\n",
       "    <tr>\n",
       "      <th>2015-12-18</th>\n",
       "      <td>10.8216</td>\n",
       "      <td>116.660004</td>\n",
       "    </tr>\n",
       "    <tr>\n",
       "      <th>2015-12-21</th>\n",
       "      <td>10.4402</td>\n",
       "      <td>117.690002</td>\n",
       "    </tr>\n",
       "    <tr>\n",
       "      <th>2015-12-22</th>\n",
       "      <td>9.8922</td>\n",
       "      <td>117.720001</td>\n",
       "    </tr>\n",
       "  </tbody>\n",
       "</table>\n",
       "</div>"
      ],
      "text/plain": [
       "symbol          CMG         MCD\n",
       "date                           \n",
       "2015-12-15  11.0972  116.930000\n",
       "2015-12-16  11.3566  117.839996\n",
       "2015-12-17  11.0978  117.500000\n",
       "2015-12-18  10.8216  116.660004\n",
       "2015-12-21  10.4402  117.690002\n",
       "2015-12-22   9.8922  117.720001"
      ]
     },
     "execution_count": 67,
     "metadata": {},
     "output_type": "execute_result"
    }
   ],
   "source": [
    "prices.loc[\"2015-12-15\":\"2015-12-22\", [\"CMG\", \"MCD\"]]"
   ]
  },
  {
   "cell_type": "code",
   "execution_count": 68,
   "id": "674c4d55-bca0-451b-857e-dcd131e0e563",
   "metadata": {},
   "outputs": [
    {
     "data": {
      "text/html": [
       "<div>\n",
       "<style scoped>\n",
       "    .dataframe tbody tr th:only-of-type {\n",
       "        vertical-align: middle;\n",
       "    }\n",
       "\n",
       "    .dataframe tbody tr th {\n",
       "        vertical-align: top;\n",
       "    }\n",
       "\n",
       "    .dataframe thead th {\n",
       "        text-align: right;\n",
       "    }\n",
       "</style>\n",
       "<table border=\"1\" class=\"dataframe\">\n",
       "  <thead>\n",
       "    <tr style=\"text-align: right;\">\n",
       "      <th>symbol</th>\n",
       "      <th>CMG</th>\n",
       "      <th>MCD</th>\n",
       "    </tr>\n",
       "    <tr>\n",
       "      <th>date</th>\n",
       "      <th></th>\n",
       "      <th></th>\n",
       "    </tr>\n",
       "  </thead>\n",
       "  <tbody>\n",
       "    <tr>\n",
       "      <th>2015-12-24</th>\n",
       "      <td>9.9020</td>\n",
       "      <td>118.570000</td>\n",
       "    </tr>\n",
       "    <tr>\n",
       "      <th>2015-12-28</th>\n",
       "      <td>9.8704</td>\n",
       "      <td>118.750000</td>\n",
       "    </tr>\n",
       "    <tr>\n",
       "      <th>2015-12-29</th>\n",
       "      <td>9.7988</td>\n",
       "      <td>120.070000</td>\n",
       "    </tr>\n",
       "    <tr>\n",
       "      <th>2015-12-30</th>\n",
       "      <td>9.7158</td>\n",
       "      <td>119.430000</td>\n",
       "    </tr>\n",
       "    <tr>\n",
       "      <th>2015-12-31</th>\n",
       "      <td>9.5970</td>\n",
       "      <td>118.139999</td>\n",
       "    </tr>\n",
       "  </tbody>\n",
       "</table>\n",
       "</div>"
      ],
      "text/plain": [
       "symbol         CMG         MCD\n",
       "date                          \n",
       "2015-12-24  9.9020  118.570000\n",
       "2015-12-28  9.8704  118.750000\n",
       "2015-12-29  9.7988  120.070000\n",
       "2015-12-30  9.7158  119.430000\n",
       "2015-12-31  9.5970  118.139999"
      ]
     },
     "execution_count": 68,
     "metadata": {},
     "output_type": "execute_result"
    }
   ],
   "source": [
    "prices.iloc[-5:, 0:2]"
   ]
  },
  {
   "cell_type": "code",
   "execution_count": 69,
   "id": "3321b44e-3e3b-4002-9c87-eebe06f264f8",
   "metadata": {},
   "outputs": [
    {
     "name": "stdout",
     "output_type": "stream",
     "text": [
      "The slowest run took 4.53 times longer than the fastest. This could mean that an intermediate result is being cached.\n",
      "89.3 µs ± 50.3 µs per loop (mean ± std. dev. of 7 runs, 1,000 loops each)\n"
     ]
    }
   ],
   "source": [
    "%timeit prices.loc[:, \"CMG\"]"
   ]
  },
  {
   "cell_type": "code",
   "execution_count": 70,
   "id": "b6c6a656-91d1-4c06-85b1-e2458d2edd16",
   "metadata": {},
   "outputs": [
    {
     "name": "stdout",
     "output_type": "stream",
     "text": [
      "10.3 µs ± 1.02 µs per loop (mean ± std. dev. of 7 runs, 100,000 loops each)\n"
     ]
    }
   ],
   "source": [
    "%timeit prices[\"CMG\"]"
   ]
  },
  {
   "cell_type": "code",
   "execution_count": 71,
   "id": "1fe6a346-7a27-443f-9326-3dcc8a94fdc0",
   "metadata": {},
   "outputs": [
    {
     "data": {
      "text/html": [
       "<div>\n",
       "<style scoped>\n",
       "    .dataframe tbody tr th:only-of-type {\n",
       "        vertical-align: middle;\n",
       "    }\n",
       "\n",
       "    .dataframe tbody tr th {\n",
       "        vertical-align: top;\n",
       "    }\n",
       "\n",
       "    .dataframe thead th {\n",
       "        text-align: right;\n",
       "    }\n",
       "</style>\n",
       "<table border=\"1\" class=\"dataframe\">\n",
       "  <thead>\n",
       "    <tr style=\"text-align: right;\">\n",
       "      <th>symbol</th>\n",
       "      <th>CMG</th>\n",
       "      <th>MCD</th>\n",
       "      <th>SHAK</th>\n",
       "    </tr>\n",
       "    <tr>\n",
       "      <th>date</th>\n",
       "      <th></th>\n",
       "      <th></th>\n",
       "      <th></th>\n",
       "    </tr>\n",
       "  </thead>\n",
       "  <tbody>\n",
       "    <tr>\n",
       "      <th>2012-01-03</th>\n",
       "      <td>6.8254</td>\n",
       "      <td>98.839996</td>\n",
       "      <td>NaN</td>\n",
       "    </tr>\n",
       "    <tr>\n",
       "      <th>2012-01-04</th>\n",
       "      <td>6.9750</td>\n",
       "      <td>99.389999</td>\n",
       "      <td>NaN</td>\n",
       "    </tr>\n",
       "    <tr>\n",
       "      <th>2012-01-05</th>\n",
       "      <td>7.0096</td>\n",
       "      <td>99.830002</td>\n",
       "      <td>NaN</td>\n",
       "    </tr>\n",
       "    <tr>\n",
       "      <th>2012-01-06</th>\n",
       "      <td>6.9790</td>\n",
       "      <td>100.599998</td>\n",
       "      <td>NaN</td>\n",
       "    </tr>\n",
       "    <tr>\n",
       "      <th>2012-01-09</th>\n",
       "      <td>6.7948</td>\n",
       "      <td>99.639999</td>\n",
       "      <td>NaN</td>\n",
       "    </tr>\n",
       "  </tbody>\n",
       "</table>\n",
       "</div>"
      ],
      "text/plain": [
       "symbol         CMG         MCD  SHAK\n",
       "date                                \n",
       "2012-01-03  6.8254   98.839996   NaN\n",
       "2012-01-04  6.9750   99.389999   NaN\n",
       "2012-01-05  7.0096   99.830002   NaN\n",
       "2012-01-06  6.9790  100.599998   NaN\n",
       "2012-01-09  6.7948   99.639999   NaN"
      ]
     },
     "execution_count": 71,
     "metadata": {},
     "output_type": "execute_result"
    }
   ],
   "source": [
    "prices.loc[prices.MCD > prices.CMG].head()"
   ]
  },
  {
   "cell_type": "code",
   "execution_count": 72,
   "id": "02eb783f-c829-4590-aad0-b518b8ba9294",
   "metadata": {},
   "outputs": [
    {
     "data": {
      "text/html": [
       "<div>\n",
       "<style scoped>\n",
       "    .dataframe tbody tr th:only-of-type {\n",
       "        vertical-align: middle;\n",
       "    }\n",
       "\n",
       "    .dataframe tbody tr th {\n",
       "        vertical-align: top;\n",
       "    }\n",
       "\n",
       "    .dataframe thead th {\n",
       "        text-align: right;\n",
       "    }\n",
       "</style>\n",
       "<table border=\"1\" class=\"dataframe\">\n",
       "  <thead>\n",
       "    <tr style=\"text-align: right;\">\n",
       "      <th>symbol</th>\n",
       "      <th>CMG</th>\n",
       "      <th>MCD</th>\n",
       "      <th>SHAK</th>\n",
       "    </tr>\n",
       "    <tr>\n",
       "      <th>date</th>\n",
       "      <th></th>\n",
       "      <th></th>\n",
       "      <th></th>\n",
       "    </tr>\n",
       "  </thead>\n",
       "  <tbody>\n",
       "    <tr>\n",
       "      <th>2015-01-30</th>\n",
       "      <td>14.1968</td>\n",
       "      <td>92.440002</td>\n",
       "      <td>45.900002</td>\n",
       "    </tr>\n",
       "    <tr>\n",
       "      <th>2015-02-02</th>\n",
       "      <td>14.2510</td>\n",
       "      <td>92.510002</td>\n",
       "      <td>43.990002</td>\n",
       "    </tr>\n",
       "    <tr>\n",
       "      <th>2015-02-03</th>\n",
       "      <td>14.5326</td>\n",
       "      <td>93.919998</td>\n",
       "      <td>44.980000</td>\n",
       "    </tr>\n",
       "    <tr>\n",
       "      <th>2015-02-04</th>\n",
       "      <td>13.5200</td>\n",
       "      <td>94.050003</td>\n",
       "      <td>41.320000</td>\n",
       "    </tr>\n",
       "    <tr>\n",
       "      <th>2015-02-05</th>\n",
       "      <td>13.4182</td>\n",
       "      <td>94.339996</td>\n",
       "      <td>42.639999</td>\n",
       "    </tr>\n",
       "  </tbody>\n",
       "</table>\n",
       "</div>"
      ],
      "text/plain": [
       "symbol          CMG        MCD       SHAK\n",
       "date                                     \n",
       "2015-01-30  14.1968  92.440002  45.900002\n",
       "2015-02-02  14.2510  92.510002  43.990002\n",
       "2015-02-03  14.5326  93.919998  44.980000\n",
       "2015-02-04  13.5200  94.050003  41.320000\n",
       "2015-02-05  13.4182  94.339996  42.639999"
      ]
     },
     "execution_count": 72,
     "metadata": {},
     "output_type": "execute_result"
    }
   ],
   "source": [
    "prices.loc[(prices.MCD > prices.CMG) & ~prices.SHAK.isnull()].head()"
   ]
  },
  {
   "cell_type": "code",
   "execution_count": 73,
   "id": "e0f845d8-699c-4cc8-9f64-f80252253f54",
   "metadata": {},
   "outputs": [
    {
     "data": {
      "text/html": [
       "<div>\n",
       "<style scoped>\n",
       "    .dataframe tbody tr th:only-of-type {\n",
       "        vertical-align: middle;\n",
       "    }\n",
       "\n",
       "    .dataframe tbody tr th {\n",
       "        vertical-align: top;\n",
       "    }\n",
       "\n",
       "    .dataframe thead th {\n",
       "        text-align: right;\n",
       "    }\n",
       "</style>\n",
       "<table border=\"1\" class=\"dataframe\">\n",
       "  <thead>\n",
       "    <tr style=\"text-align: right;\">\n",
       "      <th>symbol</th>\n",
       "      <th>CMG</th>\n",
       "      <th>MCD</th>\n",
       "      <th>SHAK</th>\n",
       "      <th>TSLA</th>\n",
       "    </tr>\n",
       "    <tr>\n",
       "      <th>date</th>\n",
       "      <th></th>\n",
       "      <th></th>\n",
       "      <th></th>\n",
       "      <th></th>\n",
       "    </tr>\n",
       "  </thead>\n",
       "  <tbody>\n",
       "    <tr>\n",
       "      <th>2012-01-03</th>\n",
       "      <td>6.8254</td>\n",
       "      <td>98.839996</td>\n",
       "      <td>NaN</td>\n",
       "      <td>1.872000</td>\n",
       "    </tr>\n",
       "    <tr>\n",
       "      <th>2012-01-04</th>\n",
       "      <td>6.9750</td>\n",
       "      <td>99.389999</td>\n",
       "      <td>NaN</td>\n",
       "      <td>1.847333</td>\n",
       "    </tr>\n",
       "    <tr>\n",
       "      <th>2012-01-05</th>\n",
       "      <td>7.0096</td>\n",
       "      <td>99.830002</td>\n",
       "      <td>NaN</td>\n",
       "      <td>1.808000</td>\n",
       "    </tr>\n",
       "    <tr>\n",
       "      <th>2012-01-06</th>\n",
       "      <td>6.9790</td>\n",
       "      <td>100.599998</td>\n",
       "      <td>NaN</td>\n",
       "      <td>1.794000</td>\n",
       "    </tr>\n",
       "    <tr>\n",
       "      <th>2012-01-09</th>\n",
       "      <td>6.7948</td>\n",
       "      <td>99.639999</td>\n",
       "      <td>NaN</td>\n",
       "      <td>1.816667</td>\n",
       "    </tr>\n",
       "  </tbody>\n",
       "</table>\n",
       "</div>"
      ],
      "text/plain": [
       "symbol         CMG         MCD  SHAK      TSLA\n",
       "date                                          \n",
       "2012-01-03  6.8254   98.839996   NaN  1.872000\n",
       "2012-01-04  6.9750   99.389999   NaN  1.847333\n",
       "2012-01-05  7.0096   99.830002   NaN  1.808000\n",
       "2012-01-06  6.9790  100.599998   NaN  1.794000\n",
       "2012-01-09  6.7948   99.639999   NaN  1.816667"
      ]
     },
     "execution_count": 73,
     "metadata": {},
     "output_type": "execute_result"
    }
   ],
   "source": [
    "s_1 = obb.equity.price.historical(\n",
    "\"TSLA\", start_date=start, end_date=end, provider=\"yfinance\" ).close\n",
    "prices.loc[:, \"TSLA\"] = s_1\n",
    "prices.head(5)"
   ]
  },
  {
   "cell_type": "code",
   "execution_count": 74,
   "id": "1c50082e-ecce-4a72-b538-046fd9d7c7cd",
   "metadata": {},
   "outputs": [
    {
     "data": {
      "text/html": [
       "<div>\n",
       "<style scoped>\n",
       "    .dataframe tbody tr th:only-of-type {\n",
       "        vertical-align: middle;\n",
       "    }\n",
       "\n",
       "    .dataframe tbody tr th {\n",
       "        vertical-align: top;\n",
       "    }\n",
       "\n",
       "    .dataframe thead th {\n",
       "        text-align: right;\n",
       "    }\n",
       "</style>\n",
       "<table border=\"1\" class=\"dataframe\">\n",
       "  <thead>\n",
       "    <tr style=\"text-align: right;\">\n",
       "      <th>symbol</th>\n",
       "      <th>CMG</th>\n",
       "      <th>MCD</th>\n",
       "      <th>SHAK</th>\n",
       "    </tr>\n",
       "    <tr>\n",
       "      <th>date</th>\n",
       "      <th></th>\n",
       "      <th></th>\n",
       "      <th></th>\n",
       "    </tr>\n",
       "  </thead>\n",
       "  <tbody>\n",
       "    <tr>\n",
       "      <th>2012-01-03</th>\n",
       "      <td>6.8254</td>\n",
       "      <td>98.839996</td>\n",
       "      <td>NaN</td>\n",
       "    </tr>\n",
       "    <tr>\n",
       "      <th>2012-01-04</th>\n",
       "      <td>6.9750</td>\n",
       "      <td>99.389999</td>\n",
       "      <td>NaN</td>\n",
       "    </tr>\n",
       "    <tr>\n",
       "      <th>2012-01-05</th>\n",
       "      <td>7.0096</td>\n",
       "      <td>99.830002</td>\n",
       "      <td>NaN</td>\n",
       "    </tr>\n",
       "    <tr>\n",
       "      <th>2012-01-06</th>\n",
       "      <td>6.9790</td>\n",
       "      <td>100.599998</td>\n",
       "      <td>NaN</td>\n",
       "    </tr>\n",
       "    <tr>\n",
       "      <th>2012-01-09</th>\n",
       "      <td>6.7948</td>\n",
       "      <td>99.639999</td>\n",
       "      <td>NaN</td>\n",
       "    </tr>\n",
       "  </tbody>\n",
       "</table>\n",
       "</div>"
      ],
      "text/plain": [
       "symbol         CMG         MCD  SHAK\n",
       "date                                \n",
       "2012-01-03  6.8254   98.839996   NaN\n",
       "2012-01-04  6.9750   99.389999   NaN\n",
       "2012-01-05  7.0096   99.830002   NaN\n",
       "2012-01-06  6.9790  100.599998   NaN\n",
       "2012-01-09  6.7948   99.639999   NaN"
      ]
     },
     "execution_count": 74,
     "metadata": {},
     "output_type": "execute_result"
    }
   ],
   "source": [
    "prices = prices.drop(\"TSLA\", axis=1)\n",
    "prices.head (5)"
   ]
  },
  {
   "cell_type": "code",
   "execution_count": 75,
   "id": "fcf32b8e-660c-4dbf-8b6f-c60f85f50778",
   "metadata": {},
   "outputs": [
    {
     "data": {
      "text/html": [
       "<div>\n",
       "<style scoped>\n",
       "    .dataframe tbody tr th:only-of-type {\n",
       "        vertical-align: middle;\n",
       "    }\n",
       "\n",
       "    .dataframe tbody tr th {\n",
       "        vertical-align: top;\n",
       "    }\n",
       "\n",
       "    .dataframe thead th {\n",
       "        text-align: right;\n",
       "    }\n",
       "</style>\n",
       "<table border=\"1\" class=\"dataframe\">\n",
       "  <thead>\n",
       "    <tr style=\"text-align: right;\">\n",
       "      <th>symbol</th>\n",
       "      <th>CMG</th>\n",
       "      <th>MCD</th>\n",
       "      <th>SHAK</th>\n",
       "    </tr>\n",
       "    <tr>\n",
       "      <th>date</th>\n",
       "      <th></th>\n",
       "      <th></th>\n",
       "      <th></th>\n",
       "    </tr>\n",
       "  </thead>\n",
       "  <tbody>\n",
       "    <tr>\n",
       "      <th>2012-01-03</th>\n",
       "      <td>6.8254</td>\n",
       "      <td>98.839996</td>\n",
       "      <td>0.0</td>\n",
       "    </tr>\n",
       "    <tr>\n",
       "      <th>2012-01-04</th>\n",
       "      <td>6.9750</td>\n",
       "      <td>99.389999</td>\n",
       "      <td>0.0</td>\n",
       "    </tr>\n",
       "    <tr>\n",
       "      <th>2012-01-05</th>\n",
       "      <td>7.0096</td>\n",
       "      <td>99.830002</td>\n",
       "      <td>0.0</td>\n",
       "    </tr>\n",
       "    <tr>\n",
       "      <th>2012-01-06</th>\n",
       "      <td>6.9790</td>\n",
       "      <td>100.599998</td>\n",
       "      <td>0.0</td>\n",
       "    </tr>\n",
       "    <tr>\n",
       "      <th>2012-01-09</th>\n",
       "      <td>6.7948</td>\n",
       "      <td>99.639999</td>\n",
       "      <td>0.0</td>\n",
       "    </tr>\n",
       "  </tbody>\n",
       "</table>\n",
       "</div>"
      ],
      "text/plain": [
       "symbol         CMG         MCD  SHAK\n",
       "date                                \n",
       "2012-01-03  6.8254   98.839996   0.0\n",
       "2012-01-04  6.9750   99.389999   0.0\n",
       "2012-01-05  7.0096   99.830002   0.0\n",
       "2012-01-06  6.9790  100.599998   0.0\n",
       "2012-01-09  6.7948   99.639999   0.0"
      ]
     },
     "execution_count": 75,
     "metadata": {},
     "output_type": "execute_result"
    }
   ],
   "source": [
    "filled0_prices = prices.fillna(0)\n",
    "filled0_prices. head (5)"
   ]
  },
  {
   "cell_type": "code",
   "execution_count": 76,
   "id": "2d8ff848-ab4a-4fbe-bb12-47a17e14b669",
   "metadata": {},
   "outputs": [
    {
     "data": {
      "text/html": [
       "<div>\n",
       "<style scoped>\n",
       "    .dataframe tbody tr th:only-of-type {\n",
       "        vertical-align: middle;\n",
       "    }\n",
       "\n",
       "    .dataframe tbody tr th {\n",
       "        vertical-align: top;\n",
       "    }\n",
       "\n",
       "    .dataframe thead th {\n",
       "        text-align: right;\n",
       "    }\n",
       "</style>\n",
       "<table border=\"1\" class=\"dataframe\">\n",
       "  <thead>\n",
       "    <tr style=\"text-align: right;\">\n",
       "      <th>symbol</th>\n",
       "      <th>CMG</th>\n",
       "      <th>MCD</th>\n",
       "      <th>SHAK</th>\n",
       "    </tr>\n",
       "    <tr>\n",
       "      <th>date</th>\n",
       "      <th></th>\n",
       "      <th></th>\n",
       "      <th></th>\n",
       "    </tr>\n",
       "  </thead>\n",
       "  <tbody>\n",
       "    <tr>\n",
       "      <th>2012-01-03</th>\n",
       "      <td>6.8254</td>\n",
       "      <td>98.839996</td>\n",
       "      <td>45.900002</td>\n",
       "    </tr>\n",
       "    <tr>\n",
       "      <th>2012-01-04</th>\n",
       "      <td>6.9750</td>\n",
       "      <td>99.389999</td>\n",
       "      <td>45.900002</td>\n",
       "    </tr>\n",
       "    <tr>\n",
       "      <th>2012-01-05</th>\n",
       "      <td>7.0096</td>\n",
       "      <td>99.830002</td>\n",
       "      <td>45.900002</td>\n",
       "    </tr>\n",
       "    <tr>\n",
       "      <th>2012-01-06</th>\n",
       "      <td>6.9790</td>\n",
       "      <td>100.599998</td>\n",
       "      <td>45.900002</td>\n",
       "    </tr>\n",
       "    <tr>\n",
       "      <th>2012-01-09</th>\n",
       "      <td>6.7948</td>\n",
       "      <td>99.639999</td>\n",
       "      <td>45.900002</td>\n",
       "    </tr>\n",
       "  </tbody>\n",
       "</table>\n",
       "</div>"
      ],
      "text/plain": [
       "symbol         CMG         MCD       SHAK\n",
       "date                                     \n",
       "2012-01-03  6.8254   98.839996  45.900002\n",
       "2012-01-04  6.9750   99.389999  45.900002\n",
       "2012-01-05  7.0096   99.830002  45.900002\n",
       "2012-01-06  6.9790  100.599998  45.900002\n",
       "2012-01-09  6.7948   99.639999  45.900002"
      ]
     },
     "execution_count": 76,
     "metadata": {},
     "output_type": "execute_result"
    }
   ],
   "source": [
    "billed_prices = prices.bfill()\n",
    "billed_prices.head (5)"
   ]
  },
  {
   "cell_type": "code",
   "execution_count": 77,
   "id": "fc8a3352-0ebc-4048-9ff2-9ff23c6b0fa1",
   "metadata": {},
   "outputs": [
    {
     "data": {
      "text/html": [
       "<div>\n",
       "<style scoped>\n",
       "    .dataframe tbody tr th:only-of-type {\n",
       "        vertical-align: middle;\n",
       "    }\n",
       "\n",
       "    .dataframe tbody tr th {\n",
       "        vertical-align: top;\n",
       "    }\n",
       "\n",
       "    .dataframe thead th {\n",
       "        text-align: right;\n",
       "    }\n",
       "</style>\n",
       "<table border=\"1\" class=\"dataframe\">\n",
       "  <thead>\n",
       "    <tr style=\"text-align: right;\">\n",
       "      <th>symbol</th>\n",
       "      <th>CMG</th>\n",
       "      <th>MCD</th>\n",
       "      <th>SHAK</th>\n",
       "    </tr>\n",
       "    <tr>\n",
       "      <th>date</th>\n",
       "      <th></th>\n",
       "      <th></th>\n",
       "      <th></th>\n",
       "    </tr>\n",
       "  </thead>\n",
       "  <tbody>\n",
       "    <tr>\n",
       "      <th>2015-01-30</th>\n",
       "      <td>14.1968</td>\n",
       "      <td>92.440002</td>\n",
       "      <td>45.900002</td>\n",
       "    </tr>\n",
       "    <tr>\n",
       "      <th>2015-02-02</th>\n",
       "      <td>14.2510</td>\n",
       "      <td>92.510002</td>\n",
       "      <td>43.990002</td>\n",
       "    </tr>\n",
       "    <tr>\n",
       "      <th>2015-02-03</th>\n",
       "      <td>14.5326</td>\n",
       "      <td>93.919998</td>\n",
       "      <td>44.980000</td>\n",
       "    </tr>\n",
       "    <tr>\n",
       "      <th>2015-02-04</th>\n",
       "      <td>13.5200</td>\n",
       "      <td>94.050003</td>\n",
       "      <td>41.320000</td>\n",
       "    </tr>\n",
       "    <tr>\n",
       "      <th>2015-02-05</th>\n",
       "      <td>13.4182</td>\n",
       "      <td>94.339996</td>\n",
       "      <td>42.639999</td>\n",
       "    </tr>\n",
       "  </tbody>\n",
       "</table>\n",
       "</div>"
      ],
      "text/plain": [
       "symbol          CMG        MCD       SHAK\n",
       "date                                     \n",
       "2015-01-30  14.1968  92.440002  45.900002\n",
       "2015-02-02  14.2510  92.510002  43.990002\n",
       "2015-02-03  14.5326  93.919998  44.980000\n",
       "2015-02-04  13.5200  94.050003  41.320000\n",
       "2015-02-05  13.4182  94.339996  42.639999"
      ]
     },
     "execution_count": 77,
     "metadata": {},
     "output_type": "execute_result"
    }
   ],
   "source": [
    "dropped_prices = prices.dropna()\n",
    "dropped_prices.head(5)"
   ]
  },
  {
   "cell_type": "code",
   "execution_count": 78,
   "id": "443d161f-79ac-4152-bc6f-fc28720077e7",
   "metadata": {},
   "outputs": [
    {
     "data": {
      "text/plain": [
       "Text(0.5, 0, 'Date')"
      ]
     },
     "execution_count": 78,
     "metadata": {},
     "output_type": "execute_result"
    },
    {
     "data": {
      "image/png": "[encoded data removed]",
      "text/plain": [
       "<Figure size 640x480 with 1 Axes>"
      ]
     },
     "metadata": {},
     "output_type": "display_data"
    }
   ],
   "source": [
    "prices.plot()\n",
    "plt.title(\"Collected Stock Prices\")\n",
    "plt.ylabel(\"Price\")\n",
    "plt.xlabel(\"Date\")"
   ]
  },
  {
   "cell_type": "code",
   "execution_count": 79,
   "id": "8abe669a-62f6-4e0f-9788-5dee70970ed1",
   "metadata": {},
   "outputs": [
    {
     "data": {
      "text/plain": [
       "symbol\n",
       "CMG      2.933775\n",
       "MCD      5.714226\n",
       "SHAK    11.968587\n",
       "dtype: float64"
      ]
     },
     "execution_count": 79,
     "metadata": {},
     "output_type": "execute_result"
    }
   ],
   "source": [
    "prices.std()"
   ]
  },
  {
   "cell_type": "code",
   "execution_count": 80,
   "id": "551d88a4-eb4a-4c1e-8b0a-d49f8db519f3",
   "metadata": {},
   "outputs": [
    {
     "data": {
      "text/html": [
       "<div>\n",
       "<style scoped>\n",
       "    .dataframe tbody tr th:only-of-type {\n",
       "        vertical-align: middle;\n",
       "    }\n",
       "\n",
       "    .dataframe tbody tr th {\n",
       "        vertical-align: top;\n",
       "    }\n",
       "\n",
       "    .dataframe thead th {\n",
       "        text-align: right;\n",
       "    }\n",
       "</style>\n",
       "<table border=\"1\" class=\"dataframe\">\n",
       "  <thead>\n",
       "    <tr style=\"text-align: right;\">\n",
       "      <th>symbol</th>\n",
       "      <th>CMG</th>\n",
       "      <th>MCD</th>\n",
       "      <th>SHAK</th>\n",
       "    </tr>\n",
       "  </thead>\n",
       "  <tbody>\n",
       "    <tr>\n",
       "      <th>count</th>\n",
       "      <td>1006.000000</td>\n",
       "      <td>1006.000000</td>\n",
       "      <td>233.000000</td>\n",
       "    </tr>\n",
       "    <tr>\n",
       "      <th>mean</th>\n",
       "      <td>10.032733</td>\n",
       "      <td>96.621600</td>\n",
       "      <td>53.575708</td>\n",
       "    </tr>\n",
       "    <tr>\n",
       "      <th>std</th>\n",
       "      <td>2.933775</td>\n",
       "      <td>5.714226</td>\n",
       "      <td>11.968587</td>\n",
       "    </tr>\n",
       "    <tr>\n",
       "      <th>min</th>\n",
       "      <td>4.724800</td>\n",
       "      <td>84.050003</td>\n",
       "      <td>38.189999</td>\n",
       "    </tr>\n",
       "    <tr>\n",
       "      <th>25%</th>\n",
       "      <td>7.431100</td>\n",
       "      <td>93.672499</td>\n",
       "      <td>44.119999</td>\n",
       "    </tr>\n",
       "    <tr>\n",
       "      <th>50%</th>\n",
       "      <td>10.425400</td>\n",
       "      <td>96.290001</td>\n",
       "      <td>49.270000</td>\n",
       "    </tr>\n",
       "    <tr>\n",
       "      <th>75%</th>\n",
       "      <td>12.936700</td>\n",
       "      <td>99.137499</td>\n",
       "      <td>61.669998</td>\n",
       "    </tr>\n",
       "    <tr>\n",
       "      <th>max</th>\n",
       "      <td>15.155400</td>\n",
       "      <td>120.070000</td>\n",
       "      <td>92.860001</td>\n",
       "    </tr>\n",
       "  </tbody>\n",
       "</table>\n",
       "</div>"
      ],
      "text/plain": [
       "symbol          CMG          MCD        SHAK\n",
       "count   1006.000000  1006.000000  233.000000\n",
       "mean      10.032733    96.621600   53.575708\n",
       "std        2.933775     5.714226   11.968587\n",
       "min        4.724800    84.050003   38.189999\n",
       "25%        7.431100    93.672499   44.119999\n",
       "50%       10.425400    96.290001   49.270000\n",
       "75%       12.936700    99.137499   61.669998\n",
       "max       15.155400   120.070000   92.860001"
      ]
     },
     "execution_count": 80,
     "metadata": {},
     "output_type": "execute_result"
    }
   ],
   "source": [
    "prices.describe()"
   ]
  },
  {
   "cell_type": "code",
   "execution_count": 81,
   "id": "83fb80fc-7259-4233-859d-f7632d6de32e",
   "metadata": {},
   "outputs": [
    {
     "data": {
      "text/html": [
       "<div>\n",
       "<style scoped>\n",
       "    .dataframe tbody tr th:only-of-type {\n",
       "        vertical-align: middle;\n",
       "    }\n",
       "\n",
       "    .dataframe tbody tr th {\n",
       "        vertical-align: top;\n",
       "    }\n",
       "\n",
       "    .dataframe thead th {\n",
       "        text-align: right;\n",
       "    }\n",
       "</style>\n",
       "<table border=\"1\" class=\"dataframe\">\n",
       "  <thead>\n",
       "    <tr style=\"text-align: right;\">\n",
       "      <th>symbol</th>\n",
       "      <th>CMG</th>\n",
       "      <th>MCD</th>\n",
       "      <th>SHAK</th>\n",
       "    </tr>\n",
       "    <tr>\n",
       "      <th>date</th>\n",
       "      <th></th>\n",
       "      <th></th>\n",
       "      <th></th>\n",
       "    </tr>\n",
       "  </thead>\n",
       "  <tbody>\n",
       "    <tr>\n",
       "      <th>2012-01-03</th>\n",
       "      <td>-36.3492</td>\n",
       "      <td>147.679993</td>\n",
       "      <td>NaN</td>\n",
       "    </tr>\n",
       "    <tr>\n",
       "      <th>2012-01-04</th>\n",
       "      <td>-36.0500</td>\n",
       "      <td>148.779999</td>\n",
       "      <td>NaN</td>\n",
       "    </tr>\n",
       "    <tr>\n",
       "      <th>2012-01-05</th>\n",
       "      <td>-35.9808</td>\n",
       "      <td>149.660004</td>\n",
       "      <td>NaN</td>\n",
       "    </tr>\n",
       "    <tr>\n",
       "      <th>2012-01-06</th>\n",
       "      <td>-36.0420</td>\n",
       "      <td>151.199997</td>\n",
       "      <td>NaN</td>\n",
       "    </tr>\n",
       "    <tr>\n",
       "      <th>2012-01-09</th>\n",
       "      <td>-36.4104</td>\n",
       "      <td>149.279999</td>\n",
       "      <td>NaN</td>\n",
       "    </tr>\n",
       "  </tbody>\n",
       "</table>\n",
       "</div>"
      ],
      "text/plain": [
       "symbol          CMG         MCD  SHAK\n",
       "date                                 \n",
       "2012-01-03 -36.3492  147.679993   NaN\n",
       "2012-01-04 -36.0500  148.779999   NaN\n",
       "2012-01-05 -35.9808  149.660004   NaN\n",
       "2012-01-06 -36.0420  151.199997   NaN\n",
       "2012-01-09 -36.4104  149.279999   NaN"
      ]
     },
     "execution_count": 81,
     "metadata": {},
     "output_type": "execute_result"
    }
   ],
   "source": [
    "(2 * prices - 50).head(5)"
   ]
  },
  {
   "cell_type": "code",
   "execution_count": 82,
   "id": "aaf23934-bc3c-4114-888e-4a1b3bd4219a",
   "metadata": {},
   "outputs": [
    {
     "data": {
      "text/html": [
       "<div>\n",
       "<style scoped>\n",
       "    .dataframe tbody tr th:only-of-type {\n",
       "        vertical-align: middle;\n",
       "    }\n",
       "\n",
       "    .dataframe tbody tr th {\n",
       "        vertical-align: top;\n",
       "    }\n",
       "\n",
       "    .dataframe thead th {\n",
       "        text-align: right;\n",
       "    }\n",
       "</style>\n",
       "<table border=\"1\" class=\"dataframe\">\n",
       "  <thead>\n",
       "    <tr style=\"text-align: right;\">\n",
       "      <th>symbol</th>\n",
       "      <th>CMG</th>\n",
       "      <th>MCD</th>\n",
       "      <th>SHAK</th>\n",
       "    </tr>\n",
       "    <tr>\n",
       "      <th>date</th>\n",
       "      <th></th>\n",
       "      <th></th>\n",
       "      <th></th>\n",
       "    </tr>\n",
       "  </thead>\n",
       "  <tbody>\n",
       "    <tr>\n",
       "      <th>2012-01-04</th>\n",
       "      <td>0.021918</td>\n",
       "      <td>0.005565</td>\n",
       "      <td>NaN</td>\n",
       "    </tr>\n",
       "    <tr>\n",
       "      <th>2012-01-05</th>\n",
       "      <td>0.004961</td>\n",
       "      <td>0.004427</td>\n",
       "      <td>NaN</td>\n",
       "    </tr>\n",
       "    <tr>\n",
       "      <th>2012-01-06</th>\n",
       "      <td>-0.004365</td>\n",
       "      <td>0.007713</td>\n",
       "      <td>NaN</td>\n",
       "    </tr>\n",
       "    <tr>\n",
       "      <th>2012-01-09</th>\n",
       "      <td>-0.026394</td>\n",
       "      <td>-0.009543</td>\n",
       "      <td>NaN</td>\n",
       "    </tr>\n",
       "    <tr>\n",
       "      <th>2012-01-10</th>\n",
       "      <td>0.004062</td>\n",
       "      <td>0.000602</td>\n",
       "      <td>NaN</td>\n",
       "    </tr>\n",
       "  </tbody>\n",
       "</table>\n",
       "</div>"
      ],
      "text/plain": [
       "symbol           CMG       MCD  SHAK\n",
       "date                                \n",
       "2012-01-04  0.021918  0.005565   NaN\n",
       "2012-01-05  0.004961  0.004427   NaN\n",
       "2012-01-06 -0.004365  0.007713   NaN\n",
       "2012-01-09 -0.026394 -0.009543   NaN\n",
       "2012-01-10  0.004062  0.000602   NaN"
      ]
     },
     "execution_count": 82,
     "metadata": {},
     "output_type": "execute_result"
    }
   ],
   "source": [
    "mult_returns = prices.pct_change()[1:]\n",
    "mult_returns.head()"
   ]
  },
  {
   "cell_type": "code",
   "execution_count": 83,
   "id": "6c82f23c-440b-4dd7-8f45-636028220311",
   "metadata": {},
   "outputs": [
    {
     "data": {
      "text/html": [
       "<div>\n",
       "<style scoped>\n",
       "    .dataframe tbody tr th:only-of-type {\n",
       "        vertical-align: middle;\n",
       "    }\n",
       "\n",
       "    .dataframe tbody tr th {\n",
       "        vertical-align: top;\n",
       "    }\n",
       "\n",
       "    .dataframe thead th {\n",
       "        text-align: right;\n",
       "    }\n",
       "</style>\n",
       "<table border=\"1\" class=\"dataframe\">\n",
       "  <thead>\n",
       "    <tr style=\"text-align: right;\">\n",
       "      <th>symbol</th>\n",
       "      <th>CMG</th>\n",
       "      <th>Macdo</th>\n",
       "      <th>SHAK</th>\n",
       "    </tr>\n",
       "    <tr>\n",
       "      <th>date</th>\n",
       "      <th></th>\n",
       "      <th></th>\n",
       "      <th></th>\n",
       "    </tr>\n",
       "  </thead>\n",
       "  <tbody>\n",
       "    <tr>\n",
       "      <th>2012-01-04</th>\n",
       "      <td>0.021918</td>\n",
       "      <td>0.005565</td>\n",
       "      <td>NaN</td>\n",
       "    </tr>\n",
       "    <tr>\n",
       "      <th>2012-01-05</th>\n",
       "      <td>0.004961</td>\n",
       "      <td>0.004427</td>\n",
       "      <td>NaN</td>\n",
       "    </tr>\n",
       "    <tr>\n",
       "      <th>2012-01-06</th>\n",
       "      <td>-0.004365</td>\n",
       "      <td>0.007713</td>\n",
       "      <td>NaN</td>\n",
       "    </tr>\n",
       "    <tr>\n",
       "      <th>2012-01-09</th>\n",
       "      <td>-0.026394</td>\n",
       "      <td>-0.009543</td>\n",
       "      <td>NaN</td>\n",
       "    </tr>\n",
       "    <tr>\n",
       "      <th>2012-01-10</th>\n",
       "      <td>0.004062</td>\n",
       "      <td>0.000602</td>\n",
       "      <td>NaN</td>\n",
       "    </tr>\n",
       "    <tr>\n",
       "      <th>...</th>\n",
       "      <td>...</td>\n",
       "      <td>...</td>\n",
       "      <td>...</td>\n",
       "    </tr>\n",
       "    <tr>\n",
       "      <th>2015-12-24</th>\n",
       "      <td>-0.004784</td>\n",
       "      <td>-0.001936</td>\n",
       "      <td>0.016315</td>\n",
       "    </tr>\n",
       "    <tr>\n",
       "      <th>2015-12-28</th>\n",
       "      <td>-0.003191</td>\n",
       "      <td>0.001518</td>\n",
       "      <td>-0.015806</td>\n",
       "    </tr>\n",
       "    <tr>\n",
       "      <th>2015-12-29</th>\n",
       "      <td>-0.007254</td>\n",
       "      <td>0.011116</td>\n",
       "      <td>0.019824</td>\n",
       "    </tr>\n",
       "    <tr>\n",
       "      <th>2015-12-30</th>\n",
       "      <td>-0.008470</td>\n",
       "      <td>-0.005330</td>\n",
       "      <td>-0.016732</td>\n",
       "    </tr>\n",
       "    <tr>\n",
       "      <th>2015-12-31</th>\n",
       "      <td>-0.012228</td>\n",
       "      <td>-0.010801</td>\n",
       "      <td>-0.009009</td>\n",
       "    </tr>\n",
       "  </tbody>\n",
       "</table>\n",
       "<p>1005 rows × 3 columns</p>\n",
       "</div>"
      ],
      "text/plain": [
       "symbol           CMG     Macdo      SHAK\n",
       "date                                    \n",
       "2012-01-04  0.021918  0.005565       NaN\n",
       "2012-01-05  0.004961  0.004427       NaN\n",
       "2012-01-06 -0.004365  0.007713       NaN\n",
       "2012-01-09 -0.026394 -0.009543       NaN\n",
       "2012-01-10  0.004062  0.000602       NaN\n",
       "...              ...       ...       ...\n",
       "2015-12-24 -0.004784 -0.001936  0.016315\n",
       "2015-12-28 -0.003191  0.001518 -0.015806\n",
       "2015-12-29 -0.007254  0.011116  0.019824\n",
       "2015-12-30 -0.008470 -0.005330 -0.016732\n",
       "2015-12-31 -0.012228 -0.010801 -0.009009\n",
       "\n",
       "[1005 rows x 3 columns]"
      ]
     },
     "execution_count": 83,
     "metadata": {},
     "output_type": "execute_result"
    }
   ],
   "source": [
    "mult_returns.rename(columns={\"MCD\": \"Macdo\"})"
   ]
  },
  {
   "cell_type": "code",
   "execution_count": 84,
   "id": "f5f365e1-ed4f-4980-80f8-e509c44277af",
   "metadata": {},
   "outputs": [
    {
     "data": {
      "text/html": [
       "<div>\n",
       "<style scoped>\n",
       "    .dataframe tbody tr th:only-of-type {\n",
       "        vertical-align: middle;\n",
       "    }\n",
       "\n",
       "    .dataframe tbody tr th {\n",
       "        vertical-align: top;\n",
       "    }\n",
       "\n",
       "    .dataframe thead th {\n",
       "        text-align: right;\n",
       "    }\n",
       "</style>\n",
       "<table border=\"1\" class=\"dataframe\">\n",
       "  <thead>\n",
       "    <tr style=\"text-align: right;\">\n",
       "      <th>symbol</th>\n",
       "      <th>CMG</th>\n",
       "      <th>MCD</th>\n",
       "      <th>SHAK</th>\n",
       "    </tr>\n",
       "    <tr>\n",
       "      <th>date</th>\n",
       "      <th></th>\n",
       "      <th></th>\n",
       "      <th></th>\n",
       "    </tr>\n",
       "  </thead>\n",
       "  <tbody>\n",
       "    <tr>\n",
       "      <th>2012-01-03</th>\n",
       "      <td>NaN</td>\n",
       "      <td>NaN</td>\n",
       "      <td>NaN</td>\n",
       "    </tr>\n",
       "    <tr>\n",
       "      <th>2012-01-04</th>\n",
       "      <td>0.021681</td>\n",
       "      <td>0.005549</td>\n",
       "      <td>NaN</td>\n",
       "    </tr>\n",
       "    <tr>\n",
       "      <th>2012-01-05</th>\n",
       "      <td>0.004948</td>\n",
       "      <td>0.004417</td>\n",
       "      <td>NaN</td>\n",
       "    </tr>\n",
       "    <tr>\n",
       "      <th>2012-01-06</th>\n",
       "      <td>-0.004375</td>\n",
       "      <td>0.007683</td>\n",
       "      <td>NaN</td>\n",
       "    </tr>\n",
       "    <tr>\n",
       "      <th>2012-01-09</th>\n",
       "      <td>-0.026748</td>\n",
       "      <td>-0.009589</td>\n",
       "      <td>NaN</td>\n",
       "    </tr>\n",
       "    <tr>\n",
       "      <th>...</th>\n",
       "      <td>...</td>\n",
       "      <td>...</td>\n",
       "      <td>...</td>\n",
       "    </tr>\n",
       "    <tr>\n",
       "      <th>2015-12-24</th>\n",
       "      <td>-0.004796</td>\n",
       "      <td>-0.001938</td>\n",
       "      <td>0.016184</td>\n",
       "    </tr>\n",
       "    <tr>\n",
       "      <th>2015-12-28</th>\n",
       "      <td>-0.003196</td>\n",
       "      <td>0.001517</td>\n",
       "      <td>-0.015933</td>\n",
       "    </tr>\n",
       "    <tr>\n",
       "      <th>2015-12-29</th>\n",
       "      <td>-0.007280</td>\n",
       "      <td>0.011054</td>\n",
       "      <td>0.019630</td>\n",
       "    </tr>\n",
       "    <tr>\n",
       "      <th>2015-12-30</th>\n",
       "      <td>-0.008507</td>\n",
       "      <td>-0.005344</td>\n",
       "      <td>-0.016874</td>\n",
       "    </tr>\n",
       "    <tr>\n",
       "      <th>2015-12-31</th>\n",
       "      <td>-0.012303</td>\n",
       "      <td>-0.010860</td>\n",
       "      <td>-0.009050</td>\n",
       "    </tr>\n",
       "  </tbody>\n",
       "</table>\n",
       "<p>1006 rows × 3 columns</p>\n",
       "</div>"
      ],
      "text/plain": [
       "symbol           CMG       MCD      SHAK\n",
       "date                                    \n",
       "2012-01-03       NaN       NaN       NaN\n",
       "2012-01-04  0.021681  0.005549       NaN\n",
       "2012-01-05  0.004948  0.004417       NaN\n",
       "2012-01-06 -0.004375  0.007683       NaN\n",
       "2012-01-09 -0.026748 -0.009589       NaN\n",
       "...              ...       ...       ...\n",
       "2015-12-24 -0.004796 -0.001938  0.016184\n",
       "2015-12-28 -0.003196  0.001517 -0.015933\n",
       "2015-12-29 -0.007280  0.011054  0.019630\n",
       "2015-12-30 -0.008507 -0.005344 -0.016874\n",
       "2015-12-31 -0.012303 -0.010860 -0.009050\n",
       "\n",
       "[1006 rows x 3 columns]"
      ]
     },
     "execution_count": 84,
     "metadata": {},
     "output_type": "execute_result"
    }
   ],
   "source": [
    "np.log(prices / prices.shift(1))"
   ]
  },
  {
   "cell_type": "code",
   "execution_count": 85,
   "id": "91f833af-b5fd-435e-a230-372527381fd1",
   "metadata": {},
   "outputs": [
    {
     "data": {
      "text/plain": [
       "<Axes: xlabel='date'>"
      ]
     },
     "execution_count": 85,
     "metadata": {},
     "output_type": "execute_result"
    },
    {
     "data": {
      "image/png": "[encoded data removed]",
      "text/plain": [
       "<Figure size 640x480 with 1 Axes>"
      ]
     },
     "metadata": {},
     "output_type": "display_data"
    }
   ],
   "source": [
    "norm_returns = (mult_returns - mult_returns.mean(axis=0)) / mult_returns.std(axis=0)\n",
    "norm_returns.loc[\"2014-01-01\":\"2015-01-01\"].plot ()"
   ]
  },
  {
   "cell_type": "code",
   "execution_count": 86,
   "id": "fa354005-57f1-4e7e-879a-2cbf1c4d1f54",
   "metadata": {},
   "outputs": [],
   "source": [
    "rolling_mean = prices.rolling(30).mean()\n",
    "rolling_mean.columns = prices.columns"
   ]
  },
  {
   "cell_type": "code",
   "execution_count": 87,
   "id": "0a20070d-8d81-486d-8587-01bdc2ab76a3",
   "metadata": {},
   "outputs": [
    {
     "data": {
      "text/plain": [
       "<matplotlib.legend.Legend at 0x7fac48058bb0>"
      ]
     },
     "execution_count": 87,
     "metadata": {},
     "output_type": "execute_result"
    },
    {
     "data": {
      "image/png": "[encoded data removed]",
      "text/plain": [
       "<Figure size 640x480 with 1 Axes>"
      ]
     },
     "metadata": {},
     "output_type": "display_data"
    }
   ],
   "source": [
    "rolling_mean.plot ()\n",
    "plt.title(\"Rolling Mean of Prices\")\n",
    "plt.xlabel(\"Date\") \n",
    "plt.ylabel(\"Price\")\n",
    "plt.legend()"
   ]
  },
  {
   "cell_type": "code",
   "execution_count": 88,
   "id": "268c057b-2483-460e-9bd7-560ac4e89737",
   "metadata": {},
   "outputs": [
    {
     "ename": "KeyError",
     "evalue": "'Adj Close'",
     "output_type": "error",
     "traceback": [
      "\u001b[0;31m---------------------------------------------------------------------------\u001b[0m",
      "\u001b[0;31mKeyError\u001b[0m                                  Traceback (most recent call last)",
      "File \u001b[0;32m/opt/conda/envs/quant-stack/lib/python3.9/site-packages/pandas/core/indexes/base.py:3805\u001b[0m, in \u001b[0;36mIndex.get_loc\u001b[0;34m(self, key)\u001b[0m\n\u001b[1;32m   3804\u001b[0m \u001b[38;5;28;01mtry\u001b[39;00m:\n\u001b[0;32m-> 3805\u001b[0m     \u001b[38;5;28;01mreturn\u001b[39;00m \u001b[38;5;28;43mself\u001b[39;49m\u001b[38;5;241;43m.\u001b[39;49m\u001b[43m_engine\u001b[49m\u001b[38;5;241;43m.\u001b[39;49m\u001b[43mget_loc\u001b[49m\u001b[43m(\u001b[49m\u001b[43mcasted_key\u001b[49m\u001b[43m)\u001b[49m\n\u001b[1;32m   3806\u001b[0m \u001b[38;5;28;01mexcept\u001b[39;00m \u001b[38;5;167;01mKeyError\u001b[39;00m \u001b[38;5;28;01mas\u001b[39;00m err:\n",
      "File \u001b[0;32mindex.pyx:167\u001b[0m, in \u001b[0;36mpandas._libs.index.IndexEngine.get_loc\u001b[0;34m()\u001b[0m\n",
      "File \u001b[0;32mindex.pyx:196\u001b[0m, in \u001b[0;36mpandas._libs.index.IndexEngine.get_loc\u001b[0;34m()\u001b[0m\n",
      "File \u001b[0;32mpandas/_libs/hashtable_class_helper.pxi:7081\u001b[0m, in \u001b[0;36mpandas._libs.hashtable.PyObjectHashTable.get_item\u001b[0;34m()\u001b[0m\n",
      "File \u001b[0;32mpandas/_libs/hashtable_class_helper.pxi:7089\u001b[0m, in \u001b[0;36mpandas._libs.hashtable.PyObjectHashTable.get_item\u001b[0;34m()\u001b[0m\n",
      "\u001b[0;31mKeyError\u001b[0m: 'Adj Close'",
      "\nThe above exception was the direct cause of the following exception:\n",
      "\u001b[0;31mKeyError\u001b[0m                                  Traceback (most recent call last)",
      "Cell \u001b[0;32mIn[88], line 18\u001b[0m\n\u001b[1;32m     10\u001b[0m data \u001b[38;5;241m=\u001b[39m obb\u001b[38;5;241m.\u001b[39mequity\u001b[38;5;241m.\u001b[39mprice\u001b[38;5;241m.\u001b[39mhistorical(\n\u001b[1;32m     11\u001b[0m     symbole, \n\u001b[1;32m     12\u001b[0m     start_date\u001b[38;5;241m=\u001b[39mdebut, \n\u001b[1;32m     13\u001b[0m     end_date\u001b[38;5;241m=\u001b[39mfin, \n\u001b[1;32m     14\u001b[0m     provider\u001b[38;5;241m=\u001b[39m\u001b[38;5;124m\"\u001b[39m\u001b[38;5;124myfinance\u001b[39m\u001b[38;5;124m\"\u001b[39m\n\u001b[1;32m     15\u001b[0m )\u001b[38;5;241m.\u001b[39mclose\n\u001b[1;32m     17\u001b[0m \u001b[38;5;66;03m# Calculer les rendements journaliers\u001b[39;00m\n\u001b[0;32m---> 18\u001b[0m rendements \u001b[38;5;241m=\u001b[39m \u001b[43mdata\u001b[49m\u001b[43m[\u001b[49m\u001b[38;5;124;43m'\u001b[39;49m\u001b[38;5;124;43mAdj Close\u001b[39;49m\u001b[38;5;124;43m'\u001b[39;49m\u001b[43m]\u001b[49m\u001b[38;5;241m.\u001b[39mpct_change()\u001b[38;5;241m.\u001b[39mdropna()\n\u001b[1;32m     20\u001b[0m \u001b[38;5;66;03m# Définir les paramètres\u001b[39;00m\n\u001b[1;32m     21\u001b[0m fenetre \u001b[38;5;241m=\u001b[39m \u001b[38;5;241m252\u001b[39m  \u001b[38;5;66;03m# Fenêtre glissante d'un an (252 jours de trading)\u001b[39;00m\n",
      "File \u001b[0;32m/opt/conda/envs/quant-stack/lib/python3.9/site-packages/pandas/core/series.py:1121\u001b[0m, in \u001b[0;36mSeries.__getitem__\u001b[0;34m(self, key)\u001b[0m\n\u001b[1;32m   1118\u001b[0m     \u001b[38;5;28;01mreturn\u001b[39;00m \u001b[38;5;28mself\u001b[39m\u001b[38;5;241m.\u001b[39m_values[key]\n\u001b[1;32m   1120\u001b[0m \u001b[38;5;28;01melif\u001b[39;00m key_is_scalar:\n\u001b[0;32m-> 1121\u001b[0m     \u001b[38;5;28;01mreturn\u001b[39;00m \u001b[38;5;28;43mself\u001b[39;49m\u001b[38;5;241;43m.\u001b[39;49m\u001b[43m_get_value\u001b[49m\u001b[43m(\u001b[49m\u001b[43mkey\u001b[49m\u001b[43m)\u001b[49m\n\u001b[1;32m   1123\u001b[0m \u001b[38;5;66;03m# Convert generator to list before going through hashable part\u001b[39;00m\n\u001b[1;32m   1124\u001b[0m \u001b[38;5;66;03m# (We will iterate through the generator there to check for slices)\u001b[39;00m\n\u001b[1;32m   1125\u001b[0m \u001b[38;5;28;01mif\u001b[39;00m is_iterator(key):\n",
      "File \u001b[0;32m/opt/conda/envs/quant-stack/lib/python3.9/site-packages/pandas/core/series.py:1237\u001b[0m, in \u001b[0;36mSeries._get_value\u001b[0;34m(self, label, takeable)\u001b[0m\n\u001b[1;32m   1234\u001b[0m     \u001b[38;5;28;01mreturn\u001b[39;00m \u001b[38;5;28mself\u001b[39m\u001b[38;5;241m.\u001b[39m_values[label]\n\u001b[1;32m   1236\u001b[0m \u001b[38;5;66;03m# Similar to Index.get_value, but we do not fall back to positional\u001b[39;00m\n\u001b[0;32m-> 1237\u001b[0m loc \u001b[38;5;241m=\u001b[39m \u001b[38;5;28;43mself\u001b[39;49m\u001b[38;5;241;43m.\u001b[39;49m\u001b[43mindex\u001b[49m\u001b[38;5;241;43m.\u001b[39;49m\u001b[43mget_loc\u001b[49m\u001b[43m(\u001b[49m\u001b[43mlabel\u001b[49m\u001b[43m)\u001b[49m\n\u001b[1;32m   1239\u001b[0m \u001b[38;5;28;01mif\u001b[39;00m is_integer(loc):\n\u001b[1;32m   1240\u001b[0m     \u001b[38;5;28;01mreturn\u001b[39;00m \u001b[38;5;28mself\u001b[39m\u001b[38;5;241m.\u001b[39m_values[loc]\n",
      "File \u001b[0;32m/opt/conda/envs/quant-stack/lib/python3.9/site-packages/pandas/core/indexes/base.py:3812\u001b[0m, in \u001b[0;36mIndex.get_loc\u001b[0;34m(self, key)\u001b[0m\n\u001b[1;32m   3807\u001b[0m     \u001b[38;5;28;01mif\u001b[39;00m \u001b[38;5;28misinstance\u001b[39m(casted_key, \u001b[38;5;28mslice\u001b[39m) \u001b[38;5;129;01mor\u001b[39;00m (\n\u001b[1;32m   3808\u001b[0m         \u001b[38;5;28misinstance\u001b[39m(casted_key, abc\u001b[38;5;241m.\u001b[39mIterable)\n\u001b[1;32m   3809\u001b[0m         \u001b[38;5;129;01mand\u001b[39;00m \u001b[38;5;28many\u001b[39m(\u001b[38;5;28misinstance\u001b[39m(x, \u001b[38;5;28mslice\u001b[39m) \u001b[38;5;28;01mfor\u001b[39;00m x \u001b[38;5;129;01min\u001b[39;00m casted_key)\n\u001b[1;32m   3810\u001b[0m     ):\n\u001b[1;32m   3811\u001b[0m         \u001b[38;5;28;01mraise\u001b[39;00m InvalidIndexError(key)\n\u001b[0;32m-> 3812\u001b[0m     \u001b[38;5;28;01mraise\u001b[39;00m \u001b[38;5;167;01mKeyError\u001b[39;00m(key) \u001b[38;5;28;01mfrom\u001b[39;00m \u001b[38;5;21;01merr\u001b[39;00m\n\u001b[1;32m   3813\u001b[0m \u001b[38;5;28;01mexcept\u001b[39;00m \u001b[38;5;167;01mTypeError\u001b[39;00m:\n\u001b[1;32m   3814\u001b[0m     \u001b[38;5;66;03m# If we have a listlike key, _check_indexing_error will raise\u001b[39;00m\n\u001b[1;32m   3815\u001b[0m     \u001b[38;5;66;03m#  InvalidIndexError. Otherwise we fall through and re-raise\u001b[39;00m\n\u001b[1;32m   3816\u001b[0m     \u001b[38;5;66;03m#  the TypeError.\u001b[39;00m\n\u001b[1;32m   3817\u001b[0m     \u001b[38;5;28mself\u001b[39m\u001b[38;5;241m.\u001b[39m_check_indexing_error(key)\n",
      "\u001b[0;31mKeyError\u001b[0m: 'Adj Close'"
     ]
    }
   ],
   "source": [
    "import pandas as pd\n",
    "import numpy as np\n",
    "import matplotlib.pyplot as plt\n",
    "from openbb import obb\n",
    "\n",
    "# Charger les données\n",
    "symbole = \"AAPL\"  # Exemple avec Apple\n",
    "debut = \"2020-01-01\"\n",
    "fin = \"2023-12-22\"\n",
    "data = obb.equity.price.historical(\n",
    "    symbole, \n",
    "    start_date=debut, \n",
    "    end_date=fin, \n",
    "    provider=\"yfinance\"\n",
    ").close\n",
    "\n",
    "# Calculer les rendements journaliers\n",
    "rendements = data['Adj Close'].pct_change().dropna()\n",
    "\n",
    "# Définir les paramètres\n",
    "fenetre = 252  # Fenêtre glissante d'un an (252 jours de trading)\n",
    "taux_sans_risque = 0.02  # Taux sans risque annuel (2% dans cet exemple)\n",
    "\n",
    "# Calculer le ratio de Sharpe glissant\n",
    "rendement_exces = rendements - taux_sans_risque / 252  # Rendement excédentaire journalier\n",
    "ratio_sharpe = rendement_exces.rolling(window=fenetre).mean() / rendement_exces.rolling(window=fenetre).std() * np.sqrt(252)\n",
    "\n",
    "# Tracer le ratio de Sharpe\n",
    "plt.figure(figsize=(12, 6))\n",
    "plt.plot(ratio_sharpe.index, ratio_sharpe.values)\n",
    "plt.title(f\"Ratio de Sharpe glissant sur 1 an pour {symbole}\")\n",
    "plt.xlabel(\"Date\")\n",
    "plt.ylabel(\"Ratio de Sharpe\")\n",
    "plt.grid(True)\n",
    "plt.show()"
   ]
  },
  {
   "cell_type": "code",
   "execution_count": null,
   "id": "71e925a0-f7cc-4282-8d30-6e390b9e2908",
   "metadata": {},
   "outputs": [],
   "source": []
  }
 ],
 "metadata": {
  "kernelspec": {
   "display_name": "Python 3 (ipykernel)",
   "language": "python",
   "name": "python3"
  },
  "language_info": {
   "codemirror_mode": {
    "name": "ipython",
    "version": 3
   },
   "file_extension": ".py",
   "mimetype": "text/x-python",
   "name": "python",
   "nbconvert_exporter": "python",
   "pygments_lexer": "ipython3",
   "version": "3.9.13"
  }
 },
 "nbformat": 4,
 "nbformat_minor": 5
}
